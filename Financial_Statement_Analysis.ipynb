{
  "nbformat": 4,
  "nbformat_minor": 0,
  "metadata": {
    "colab": {
      "provenance": [],
      "authorship_tag": "ABX9TyOTHARI23CTEXUlFmYiiOHt",
      "include_colab_link": true
    },
    "kernelspec": {
      "name": "python3",
      "display_name": "Python 3"
    },
    "language_info": {
      "name": "python"
    }
  },
  "cells": [
    {
      "cell_type": "markdown",
      "metadata": {
        "id": "view-in-github",
        "colab_type": "text"
      },
      "source": [
        "<a href=\"https://colab.research.google.com/github/bonareri/Financial-Statement-Analysis/blob/main/Financial_Statement_Analysis.ipynb\" target=\"_parent\"><img src=\"https://colab.research.google.com/assets/colab-badge.svg\" alt=\"Open In Colab\"/></a>"
      ]
    },
    {
      "cell_type": "markdown",
      "source": [
        "## Financial Analysis"
      ],
      "metadata": {
        "id": "-VGp1pLrMoNz"
      }
    },
    {
      "cell_type": "code",
      "source": [
        "import yfinance as yf\n",
        "import pandas as pd\n",
        "import numpy as np\n",
        "import matplotlib.pyplot as plt\n",
        "import seaborn as sns"
      ],
      "metadata": {
        "id": "OGE_RiRXpjmc"
      },
      "execution_count": 2,
      "outputs": []
    },
    {
      "cell_type": "code",
      "execution_count": 1,
      "metadata": {
        "id": "O63-D7eYLcV_"
      },
      "outputs": [],
      "source": [
        "# Define the stock symbol (e.g., Apple)\n",
        "ticker = \"AAPL\"\n",
        "\n",
        "# Download financial data\n",
        "stock = yf.Ticker(ticker)"
      ]
    },
    {
      "cell_type": "markdown",
      "source": [
        "### Get Financial Statements"
      ],
      "metadata": {
        "id": "H3ghVhjaLtX-"
      }
    },
    {
      "cell_type": "markdown",
      "source": [
        "####  Income Statement"
      ],
      "metadata": {
        "id": "s90MYE5CLyLL"
      }
    },
    {
      "cell_type": "code",
      "source": [
        "income_statement = stock.financials\n",
        "print(income_statement)"
      ],
      "metadata": {
        "colab": {
          "base_uri": "https://localhost:8080/"
        },
        "id": "kSG-agbYLl5y",
        "outputId": "5c80246c-d8f7-4948-da6a-1d5f34a77f5c"
      },
      "execution_count": 2,
      "outputs": [
        {
          "output_type": "stream",
          "name": "stdout",
          "text": [
            "                                                        2024-09-30  \\\n",
            "Tax Effect Of Unusual Items                                    0.0   \n",
            "Tax Rate For Calcs                                           0.241   \n",
            "Normalized EBITDA                                   134661000000.0   \n",
            "Net Income From Continuing Operation Net Minori...   93736000000.0   \n",
            "Reconciled Depreciation                              11445000000.0   \n",
            "Reconciled Cost Of Revenue                          210352000000.0   \n",
            "EBITDA                                              134661000000.0   \n",
            "EBIT                                                123216000000.0   \n",
            "Net Interest Income                                            NaN   \n",
            "Interest Expense                                               NaN   \n",
            "Interest Income                                                NaN   \n",
            "Normalized Income                                    93736000000.0   \n",
            "Net Income From Continuing And Discontinued Ope...   93736000000.0   \n",
            "Total Expenses                                      267819000000.0   \n",
            "Total Operating Income As Reported                  123216000000.0   \n",
            "Diluted Average Shares                               15408095000.0   \n",
            "Basic Average Shares                                 15343783000.0   \n",
            "Diluted EPS                                                   6.08   \n",
            "Basic EPS                                                     6.11   \n",
            "Diluted NI Availto Com Stockholders                  93736000000.0   \n",
            "Net Income Common Stockholders                       93736000000.0   \n",
            "Net Income                                           93736000000.0   \n",
            "Net Income Including Noncontrolling Interests        93736000000.0   \n",
            "Net Income Continuous Operations                     93736000000.0   \n",
            "Tax Provision                                        29749000000.0   \n",
            "Pretax Income                                       123485000000.0   \n",
            "Other Income Expense                                   269000000.0   \n",
            "Other Non Operating Income Expenses                    269000000.0   \n",
            "Net Non Operating Interest Income Expense                      NaN   \n",
            "Interest Expense Non Operating                                 NaN   \n",
            "Interest Income Non Operating                                  NaN   \n",
            "Operating Income                                    123216000000.0   \n",
            "Operating Expense                                    57467000000.0   \n",
            "Research And Development                             31370000000.0   \n",
            "Selling General And Administration                   26097000000.0   \n",
            "Gross Profit                                        180683000000.0   \n",
            "Cost Of Revenue                                     210352000000.0   \n",
            "Total Revenue                                       391035000000.0   \n",
            "Operating Revenue                                   391035000000.0   \n",
            "\n",
            "                                                        2023-09-30  \\\n",
            "Tax Effect Of Unusual Items                                    0.0   \n",
            "Tax Rate For Calcs                                           0.147   \n",
            "Normalized EBITDA                                   125820000000.0   \n",
            "Net Income From Continuing Operation Net Minori...   96995000000.0   \n",
            "Reconciled Depreciation                              11519000000.0   \n",
            "Reconciled Cost Of Revenue                          214137000000.0   \n",
            "EBITDA                                              125820000000.0   \n",
            "EBIT                                                114301000000.0   \n",
            "Net Interest Income                                   -183000000.0   \n",
            "Interest Expense                                      3933000000.0   \n",
            "Interest Income                                       3750000000.0   \n",
            "Normalized Income                                    96995000000.0   \n",
            "Net Income From Continuing And Discontinued Ope...   96995000000.0   \n",
            "Total Expenses                                      268984000000.0   \n",
            "Total Operating Income As Reported                  114301000000.0   \n",
            "Diluted Average Shares                               15812547000.0   \n",
            "Basic Average Shares                                 15744231000.0   \n",
            "Diluted EPS                                                   6.13   \n",
            "Basic EPS                                                     6.16   \n",
            "Diluted NI Availto Com Stockholders                  96995000000.0   \n",
            "Net Income Common Stockholders                       96995000000.0   \n",
            "Net Income                                           96995000000.0   \n",
            "Net Income Including Noncontrolling Interests        96995000000.0   \n",
            "Net Income Continuous Operations                     96995000000.0   \n",
            "Tax Provision                                        16741000000.0   \n",
            "Pretax Income                                       113736000000.0   \n",
            "Other Income Expense                                  -565000000.0   \n",
            "Other Non Operating Income Expenses                   -565000000.0   \n",
            "Net Non Operating Interest Income Expense             -183000000.0   \n",
            "Interest Expense Non Operating                        3933000000.0   \n",
            "Interest Income Non Operating                         3750000000.0   \n",
            "Operating Income                                    114301000000.0   \n",
            "Operating Expense                                    54847000000.0   \n",
            "Research And Development                             29915000000.0   \n",
            "Selling General And Administration                   24932000000.0   \n",
            "Gross Profit                                        169148000000.0   \n",
            "Cost Of Revenue                                     214137000000.0   \n",
            "Total Revenue                                       383285000000.0   \n",
            "Operating Revenue                                   383285000000.0   \n",
            "\n",
            "                                                        2022-09-30  \\\n",
            "Tax Effect Of Unusual Items                                    0.0   \n",
            "Tax Rate For Calcs                                           0.162   \n",
            "Normalized EBITDA                                   130541000000.0   \n",
            "Net Income From Continuing Operation Net Minori...   99803000000.0   \n",
            "Reconciled Depreciation                              11104000000.0   \n",
            "Reconciled Cost Of Revenue                          223546000000.0   \n",
            "EBITDA                                              130541000000.0   \n",
            "EBIT                                                119437000000.0   \n",
            "Net Interest Income                                   -106000000.0   \n",
            "Interest Expense                                      2931000000.0   \n",
            "Interest Income                                       2825000000.0   \n",
            "Normalized Income                                    99803000000.0   \n",
            "Net Income From Continuing And Discontinued Ope...   99803000000.0   \n",
            "Total Expenses                                      274891000000.0   \n",
            "Total Operating Income As Reported                  119437000000.0   \n",
            "Diluted Average Shares                               16325819000.0   \n",
            "Basic Average Shares                                 16215963000.0   \n",
            "Diluted EPS                                                   6.11   \n",
            "Basic EPS                                                     6.15   \n",
            "Diluted NI Availto Com Stockholders                  99803000000.0   \n",
            "Net Income Common Stockholders                       99803000000.0   \n",
            "Net Income                                           99803000000.0   \n",
            "Net Income Including Noncontrolling Interests        99803000000.0   \n",
            "Net Income Continuous Operations                     99803000000.0   \n",
            "Tax Provision                                        19300000000.0   \n",
            "Pretax Income                                       119103000000.0   \n",
            "Other Income Expense                                  -334000000.0   \n",
            "Other Non Operating Income Expenses                   -334000000.0   \n",
            "Net Non Operating Interest Income Expense             -106000000.0   \n",
            "Interest Expense Non Operating                        2931000000.0   \n",
            "Interest Income Non Operating                         2825000000.0   \n",
            "Operating Income                                    119437000000.0   \n",
            "Operating Expense                                    51345000000.0   \n",
            "Research And Development                             26251000000.0   \n",
            "Selling General And Administration                   25094000000.0   \n",
            "Gross Profit                                        170782000000.0   \n",
            "Cost Of Revenue                                     223546000000.0   \n",
            "Total Revenue                                       394328000000.0   \n",
            "Operating Revenue                                   394328000000.0   \n",
            "\n",
            "                                                        2021-09-30  \\\n",
            "Tax Effect Of Unusual Items                                    0.0   \n",
            "Tax Rate For Calcs                                           0.133   \n",
            "Normalized EBITDA                                   123136000000.0   \n",
            "Net Income From Continuing Operation Net Minori...   94680000000.0   \n",
            "Reconciled Depreciation                              11284000000.0   \n",
            "Reconciled Cost Of Revenue                          212981000000.0   \n",
            "EBITDA                                              123136000000.0   \n",
            "EBIT                                                111852000000.0   \n",
            "Net Interest Income                                    198000000.0   \n",
            "Interest Expense                                      2645000000.0   \n",
            "Interest Income                                       2843000000.0   \n",
            "Normalized Income                                    94680000000.0   \n",
            "Net Income From Continuing And Discontinued Ope...   94680000000.0   \n",
            "Total Expenses                                      256868000000.0   \n",
            "Total Operating Income As Reported                  108949000000.0   \n",
            "Diluted Average Shares                               16864919000.0   \n",
            "Basic Average Shares                                 16701272000.0   \n",
            "Diluted EPS                                                   5.61   \n",
            "Basic EPS                                                     5.67   \n",
            "Diluted NI Availto Com Stockholders                  94680000000.0   \n",
            "Net Income Common Stockholders                       94680000000.0   \n",
            "Net Income                                           94680000000.0   \n",
            "Net Income Including Noncontrolling Interests        94680000000.0   \n",
            "Net Income Continuous Operations                     94680000000.0   \n",
            "Tax Provision                                        14527000000.0   \n",
            "Pretax Income                                       109207000000.0   \n",
            "Other Income Expense                                    60000000.0   \n",
            "Other Non Operating Income Expenses                     60000000.0   \n",
            "Net Non Operating Interest Income Expense              198000000.0   \n",
            "Interest Expense Non Operating                        2645000000.0   \n",
            "Interest Income Non Operating                         2843000000.0   \n",
            "Operating Income                                    108949000000.0   \n",
            "Operating Expense                                    43887000000.0   \n",
            "Research And Development                             21914000000.0   \n",
            "Selling General And Administration                   21973000000.0   \n",
            "Gross Profit                                        152836000000.0   \n",
            "Cost Of Revenue                                     212981000000.0   \n",
            "Total Revenue                                       365817000000.0   \n",
            "Operating Revenue                                   365817000000.0   \n",
            "\n",
            "                                                      2020-09-30  \n",
            "Tax Effect Of Unusual Items                                  NaN  \n",
            "Tax Rate For Calcs                                           NaN  \n",
            "Normalized EBITDA                                            NaN  \n",
            "Net Income From Continuing Operation Net Minori...           NaN  \n",
            "Reconciled Depreciation                                      NaN  \n",
            "Reconciled Cost Of Revenue                                   NaN  \n",
            "EBITDA                                                       NaN  \n",
            "EBIT                                                         NaN  \n",
            "Net Interest Income                                  890000000.0  \n",
            "Interest Expense                                    2873000000.0  \n",
            "Interest Income                                     3763000000.0  \n",
            "Normalized Income                                            NaN  \n",
            "Net Income From Continuing And Discontinued Ope...           NaN  \n",
            "Total Expenses                                               NaN  \n",
            "Total Operating Income As Reported                           NaN  \n",
            "Diluted Average Shares                                       NaN  \n",
            "Basic Average Shares                                         NaN  \n",
            "Diluted EPS                                                  NaN  \n",
            "Basic EPS                                                    NaN  \n",
            "Diluted NI Availto Com Stockholders                          NaN  \n",
            "Net Income Common Stockholders                               NaN  \n",
            "Net Income                                                   NaN  \n",
            "Net Income Including Noncontrolling Interests                NaN  \n",
            "Net Income Continuous Operations                             NaN  \n",
            "Tax Provision                                                NaN  \n",
            "Pretax Income                                                NaN  \n",
            "Other Income Expense                                         NaN  \n",
            "Other Non Operating Income Expenses                          NaN  \n",
            "Net Non Operating Interest Income Expense            890000000.0  \n",
            "Interest Expense Non Operating                      2873000000.0  \n",
            "Interest Income Non Operating                       3763000000.0  \n",
            "Operating Income                                             NaN  \n",
            "Operating Expense                                            NaN  \n",
            "Research And Development                                     NaN  \n",
            "Selling General And Administration                           NaN  \n",
            "Gross Profit                                                 NaN  \n",
            "Cost Of Revenue                                              NaN  \n",
            "Total Revenue                                                NaN  \n",
            "Operating Revenue                                            NaN  \n"
          ]
        }
      ]
    },
    {
      "cell_type": "markdown",
      "source": [
        "####  Balance Sheet"
      ],
      "metadata": {
        "id": "x95qX7y_L7au"
      }
    },
    {
      "cell_type": "code",
      "source": [
        "balance_sheet = stock.balance_sheet\n",
        "print(balance_sheet)"
      ],
      "metadata": {
        "colab": {
          "base_uri": "https://localhost:8080/"
        },
        "id": "WpIzxpTdL03c",
        "outputId": "0566f6d6-5123-4a5b-ecf9-5c430017cdaa"
      },
      "execution_count": 3,
      "outputs": [
        {
          "output_type": "stream",
          "name": "stdout",
          "text": [
            "                                                      2024-09-30  \\\n",
            "Treasury Shares Number                                       NaN   \n",
            "Ordinary Shares Number                             15116786000.0   \n",
            "Share Issued                                       15116786000.0   \n",
            "Net Debt                                           76686000000.0   \n",
            "Total Debt                                        106629000000.0   \n",
            "...                                                          ...   \n",
            "Cash Cash Equivalents And Short Term Investments   65171000000.0   \n",
            "Other Short Term Investments                       35228000000.0   \n",
            "Cash And Cash Equivalents                          29943000000.0   \n",
            "Cash Equivalents                                    2744000000.0   \n",
            "Cash Financial                                     27199000000.0   \n",
            "\n",
            "                                                      2023-09-30  \\\n",
            "Treasury Shares Number                                       0.0   \n",
            "Ordinary Shares Number                             15550061000.0   \n",
            "Share Issued                                       15550061000.0   \n",
            "Net Debt                                           81123000000.0   \n",
            "Total Debt                                        111088000000.0   \n",
            "...                                                          ...   \n",
            "Cash Cash Equivalents And Short Term Investments   61555000000.0   \n",
            "Other Short Term Investments                       31590000000.0   \n",
            "Cash And Cash Equivalents                          29965000000.0   \n",
            "Cash Equivalents                                    1606000000.0   \n",
            "Cash Financial                                     28359000000.0   \n",
            "\n",
            "                                                      2022-09-30  \\\n",
            "Treasury Shares Number                                       NaN   \n",
            "Ordinary Shares Number                             15943425000.0   \n",
            "Share Issued                                       15943425000.0   \n",
            "Net Debt                                           96423000000.0   \n",
            "Total Debt                                        132480000000.0   \n",
            "...                                                          ...   \n",
            "Cash Cash Equivalents And Short Term Investments   48304000000.0   \n",
            "Other Short Term Investments                       24658000000.0   \n",
            "Cash And Cash Equivalents                          23646000000.0   \n",
            "Cash Equivalents                                    5100000000.0   \n",
            "Cash Financial                                     18546000000.0   \n",
            "\n",
            "                                                      2021-09-30 2020-09-30  \n",
            "Treasury Shares Number                                       NaN        NaN  \n",
            "Ordinary Shares Number                             16426786000.0        NaN  \n",
            "Share Issued                                       16426786000.0        NaN  \n",
            "Net Debt                                           89779000000.0        NaN  \n",
            "Total Debt                                        136522000000.0        NaN  \n",
            "...                                                          ...        ...  \n",
            "Cash Cash Equivalents And Short Term Investments   62639000000.0        NaN  \n",
            "Other Short Term Investments                       27699000000.0        NaN  \n",
            "Cash And Cash Equivalents                          34940000000.0        NaN  \n",
            "Cash Equivalents                                   17635000000.0        NaN  \n",
            "Cash Financial                                     17305000000.0        NaN  \n",
            "\n",
            "[68 rows x 5 columns]\n"
          ]
        }
      ]
    },
    {
      "cell_type": "markdown",
      "source": [
        "#### Cash Flow Statement"
      ],
      "metadata": {
        "id": "lT2zK1i5MGr7"
      }
    },
    {
      "cell_type": "code",
      "source": [
        "cash_flow = stock.cashflow\n",
        "print(cash_flow)"
      ],
      "metadata": {
        "colab": {
          "base_uri": "https://localhost:8080/"
        },
        "id": "FOkuQM2RMAuB",
        "outputId": "1c3ccd3f-e093-4b2d-9661-4d45e5c0bc3a"
      },
      "execution_count": 4,
      "outputs": [
        {
          "output_type": "stream",
          "name": "stdout",
          "text": [
            "                                                    2024-09-30  \\\n",
            "Free Cash Flow                                  108807000000.0   \n",
            "Repurchase Of Capital Stock                     -94949000000.0   \n",
            "Repayment Of Debt                                -9958000000.0   \n",
            "Issuance Of Debt                                           0.0   \n",
            "Issuance Of Capital Stock                                  NaN   \n",
            "Capital Expenditure                              -9447000000.0   \n",
            "Interest Paid Supplemental Data                            NaN   \n",
            "Income Tax Paid Supplemental Data                26102000000.0   \n",
            "End Cash Position                                29943000000.0   \n",
            "Beginning Cash Position                          30737000000.0   \n",
            "Changes In Cash                                   -794000000.0   \n",
            "Financing Cash Flow                            -121983000000.0   \n",
            "Cash Flow From Continuing Financing Activities -121983000000.0   \n",
            "Net Other Financing Charges                      -5802000000.0   \n",
            "Cash Dividends Paid                             -15234000000.0   \n",
            "Common Stock Dividend Paid                      -15234000000.0   \n",
            "Net Common Stock Issuance                       -94949000000.0   \n",
            "Common Stock Payments                           -94949000000.0   \n",
            "Common Stock Issuance                                      NaN   \n",
            "Net Issuance Payments Of Debt                    -5998000000.0   \n",
            "Net Short Term Debt Issuance                      3960000000.0   \n",
            "Net Long Term Debt Issuance                      -9958000000.0   \n",
            "Long Term Debt Payments                          -9958000000.0   \n",
            "Long Term Debt Issuance                                    0.0   \n",
            "Investing Cash Flow                               2935000000.0   \n",
            "Cash Flow From Continuing Investing Activities    2935000000.0   \n",
            "Net Other Investing Changes                      -1308000000.0   \n",
            "Net Investment Purchase And Sale                 13690000000.0   \n",
            "Sale Of Investment                               62346000000.0   \n",
            "Purchase Of Investment                          -48656000000.0   \n",
            "Net Business Purchase And Sale                             NaN   \n",
            "Purchase Of Business                                       NaN   \n",
            "Net PPE Purchase And Sale                        -9447000000.0   \n",
            "Purchase Of PPE                                  -9447000000.0   \n",
            "Operating Cash Flow                             118254000000.0   \n",
            "Cash Flow From Continuing Operating Activities  118254000000.0   \n",
            "Change In Working Capital                         3651000000.0   \n",
            "Change In Other Working Capital                            NaN   \n",
            "Change In Other Current Liabilities              15552000000.0   \n",
            "Change In Other Current Assets                  -11731000000.0   \n",
            "Change In Payables And Accrued Expense            6020000000.0   \n",
            "Change In Payable                                 6020000000.0   \n",
            "Change In Account Payable                         6020000000.0   \n",
            "Change In Inventory                              -1046000000.0   \n",
            "Change In Receivables                            -5144000000.0   \n",
            "Changes In Account Receivables                   -3788000000.0   \n",
            "Other Non Cash Items                             -2266000000.0   \n",
            "Stock Based Compensation                         11688000000.0   \n",
            "Deferred Tax                                               NaN   \n",
            "Deferred Income Tax                                        NaN   \n",
            "Depreciation Amortization Depletion              11445000000.0   \n",
            "Depreciation And Amortization                    11445000000.0   \n",
            "Net Income From Continuing Operations            93736000000.0   \n",
            "\n",
            "                                                    2023-09-30  \\\n",
            "Free Cash Flow                                   99584000000.0   \n",
            "Repurchase Of Capital Stock                     -77550000000.0   \n",
            "Repayment Of Debt                               -11151000000.0   \n",
            "Issuance Of Debt                                  5228000000.0   \n",
            "Issuance Of Capital Stock                                  NaN   \n",
            "Capital Expenditure                             -10959000000.0   \n",
            "Interest Paid Supplemental Data                   3803000000.0   \n",
            "Income Tax Paid Supplemental Data                18679000000.0   \n",
            "End Cash Position                                30737000000.0   \n",
            "Beginning Cash Position                          24977000000.0   \n",
            "Changes In Cash                                   5760000000.0   \n",
            "Financing Cash Flow                            -108488000000.0   \n",
            "Cash Flow From Continuing Financing Activities -108488000000.0   \n",
            "Net Other Financing Charges                      -6012000000.0   \n",
            "Cash Dividends Paid                             -15025000000.0   \n",
            "Common Stock Dividend Paid                      -15025000000.0   \n",
            "Net Common Stock Issuance                       -77550000000.0   \n",
            "Common Stock Payments                           -77550000000.0   \n",
            "Common Stock Issuance                                      NaN   \n",
            "Net Issuance Payments Of Debt                    -9901000000.0   \n",
            "Net Short Term Debt Issuance                     -3978000000.0   \n",
            "Net Long Term Debt Issuance                      -5923000000.0   \n",
            "Long Term Debt Payments                         -11151000000.0   \n",
            "Long Term Debt Issuance                           5228000000.0   \n",
            "Investing Cash Flow                               3705000000.0   \n",
            "Cash Flow From Continuing Investing Activities    3705000000.0   \n",
            "Net Other Investing Changes                      -1337000000.0   \n",
            "Net Investment Purchase And Sale                 16001000000.0   \n",
            "Sale Of Investment                               45514000000.0   \n",
            "Purchase Of Investment                          -29513000000.0   \n",
            "Net Business Purchase And Sale                             NaN   \n",
            "Purchase Of Business                                       NaN   \n",
            "Net PPE Purchase And Sale                       -10959000000.0   \n",
            "Purchase Of PPE                                 -10959000000.0   \n",
            "Operating Cash Flow                             110543000000.0   \n",
            "Cash Flow From Continuing Operating Activities  110543000000.0   \n",
            "Change In Working Capital                        -6577000000.0   \n",
            "Change In Other Working Capital                            NaN   \n",
            "Change In Other Current Liabilities               3031000000.0   \n",
            "Change In Other Current Assets                   -5684000000.0   \n",
            "Change In Payables And Accrued Expense           -1889000000.0   \n",
            "Change In Payable                                -1889000000.0   \n",
            "Change In Account Payable                        -1889000000.0   \n",
            "Change In Inventory                              -1618000000.0   \n",
            "Change In Receivables                             -417000000.0   \n",
            "Changes In Account Receivables                   -1688000000.0   \n",
            "Other Non Cash Items                             -2227000000.0   \n",
            "Stock Based Compensation                         10833000000.0   \n",
            "Deferred Tax                                               NaN   \n",
            "Deferred Income Tax                                        NaN   \n",
            "Depreciation Amortization Depletion              11519000000.0   \n",
            "Depreciation And Amortization                    11519000000.0   \n",
            "Net Income From Continuing Operations            96995000000.0   \n",
            "\n",
            "                                                    2022-09-30  \\\n",
            "Free Cash Flow                                  111443000000.0   \n",
            "Repurchase Of Capital Stock                     -89402000000.0   \n",
            "Repayment Of Debt                                -9543000000.0   \n",
            "Issuance Of Debt                                  5465000000.0   \n",
            "Issuance Of Capital Stock                                  NaN   \n",
            "Capital Expenditure                             -10708000000.0   \n",
            "Interest Paid Supplemental Data                   2865000000.0   \n",
            "Income Tax Paid Supplemental Data                19573000000.0   \n",
            "End Cash Position                                24977000000.0   \n",
            "Beginning Cash Position                          35929000000.0   \n",
            "Changes In Cash                                 -10952000000.0   \n",
            "Financing Cash Flow                            -110749000000.0   \n",
            "Cash Flow From Continuing Financing Activities -110749000000.0   \n",
            "Net Other Financing Charges                      -6383000000.0   \n",
            "Cash Dividends Paid                             -14841000000.0   \n",
            "Common Stock Dividend Paid                      -14841000000.0   \n",
            "Net Common Stock Issuance                       -89402000000.0   \n",
            "Common Stock Payments                           -89402000000.0   \n",
            "Common Stock Issuance                                      NaN   \n",
            "Net Issuance Payments Of Debt                     -123000000.0   \n",
            "Net Short Term Debt Issuance                      3955000000.0   \n",
            "Net Long Term Debt Issuance                      -4078000000.0   \n",
            "Long Term Debt Payments                          -9543000000.0   \n",
            "Long Term Debt Issuance                           5465000000.0   \n",
            "Investing Cash Flow                             -22354000000.0   \n",
            "Cash Flow From Continuing Investing Activities  -22354000000.0   \n",
            "Net Other Investing Changes                      -2086000000.0   \n",
            "Net Investment Purchase And Sale                 -9560000000.0   \n",
            "Sale Of Investment                               67363000000.0   \n",
            "Purchase Of Investment                          -76923000000.0   \n",
            "Net Business Purchase And Sale                    -306000000.0   \n",
            "Purchase Of Business                              -306000000.0   \n",
            "Net PPE Purchase And Sale                       -10708000000.0   \n",
            "Purchase Of PPE                                 -10708000000.0   \n",
            "Operating Cash Flow                             122151000000.0   \n",
            "Cash Flow From Continuing Operating Activities  122151000000.0   \n",
            "Change In Working Capital                         1200000000.0   \n",
            "Change In Other Working Capital                    478000000.0   \n",
            "Change In Other Current Liabilities               6110000000.0   \n",
            "Change In Other Current Assets                   -6499000000.0   \n",
            "Change In Payables And Accrued Expense            9448000000.0   \n",
            "Change In Payable                                 9448000000.0   \n",
            "Change In Account Payable                         9448000000.0   \n",
            "Change In Inventory                               1484000000.0   \n",
            "Change In Receivables                            -9343000000.0   \n",
            "Changes In Account Receivables                   -1823000000.0   \n",
            "Other Non Cash Items                              1006000000.0   \n",
            "Stock Based Compensation                          9038000000.0   \n",
            "Deferred Tax                                       895000000.0   \n",
            "Deferred Income Tax                                895000000.0   \n",
            "Depreciation Amortization Depletion              11104000000.0   \n",
            "Depreciation And Amortization                    11104000000.0   \n",
            "Net Income From Continuing Operations            99803000000.0   \n",
            "\n",
            "                                                    2021-09-30    2020-09-30  \n",
            "Free Cash Flow                                   92953000000.0           NaN  \n",
            "Repurchase Of Capital Stock                     -85971000000.0           NaN  \n",
            "Repayment Of Debt                                -8750000000.0           NaN  \n",
            "Issuance Of Debt                                 20393000000.0           NaN  \n",
            "Issuance Of Capital Stock                         1105000000.0   880000000.0  \n",
            "Capital Expenditure                             -11085000000.0           NaN  \n",
            "Interest Paid Supplemental Data                   2687000000.0  3002000000.0  \n",
            "Income Tax Paid Supplemental Data                25385000000.0           NaN  \n",
            "End Cash Position                                35929000000.0           NaN  \n",
            "Beginning Cash Position                          39789000000.0           NaN  \n",
            "Changes In Cash                                  -3860000000.0           NaN  \n",
            "Financing Cash Flow                             -93353000000.0           NaN  \n",
            "Cash Flow From Continuing Financing Activities  -93353000000.0           NaN  \n",
            "Net Other Financing Charges                      -5580000000.0           NaN  \n",
            "Cash Dividends Paid                             -14467000000.0           NaN  \n",
            "Common Stock Dividend Paid                      -14467000000.0           NaN  \n",
            "Net Common Stock Issuance                       -85971000000.0           NaN  \n",
            "Common Stock Payments                           -85971000000.0           NaN  \n",
            "Common Stock Issuance                             1105000000.0   880000000.0  \n",
            "Net Issuance Payments Of Debt                    12665000000.0           NaN  \n",
            "Net Short Term Debt Issuance                      1022000000.0           NaN  \n",
            "Net Long Term Debt Issuance                      11643000000.0           NaN  \n",
            "Long Term Debt Payments                          -8750000000.0           NaN  \n",
            "Long Term Debt Issuance                          20393000000.0           NaN  \n",
            "Investing Cash Flow                             -14545000000.0           NaN  \n",
            "Cash Flow From Continuing Investing Activities  -14545000000.0           NaN  \n",
            "Net Other Investing Changes                       -385000000.0           NaN  \n",
            "Net Investment Purchase And Sale                 -3075000000.0           NaN  \n",
            "Sale Of Investment                              106483000000.0           NaN  \n",
            "Purchase Of Investment                         -109558000000.0           NaN  \n",
            "Net Business Purchase And Sale                     -33000000.0 -1524000000.0  \n",
            "Purchase Of Business                               -33000000.0 -1524000000.0  \n",
            "Net PPE Purchase And Sale                       -11085000000.0           NaN  \n",
            "Purchase Of PPE                                 -11085000000.0           NaN  \n",
            "Operating Cash Flow                             104038000000.0           NaN  \n",
            "Cash Flow From Continuing Operating Activities  104038000000.0           NaN  \n",
            "Change In Working Capital                        -4911000000.0           NaN  \n",
            "Change In Other Working Capital                   1676000000.0  2081000000.0  \n",
            "Change In Other Current Liabilities               7475000000.0           NaN  \n",
            "Change In Other Current Assets                   -8042000000.0           NaN  \n",
            "Change In Payables And Accrued Expense           12326000000.0           NaN  \n",
            "Change In Payable                                12326000000.0           NaN  \n",
            "Change In Account Payable                        12326000000.0           NaN  \n",
            "Change In Inventory                              -2642000000.0           NaN  \n",
            "Change In Receivables                           -14028000000.0           NaN  \n",
            "Changes In Account Receivables                  -10125000000.0           NaN  \n",
            "Other Non Cash Items                             -4921000000.0           NaN  \n",
            "Stock Based Compensation                          7906000000.0           NaN  \n",
            "Deferred Tax                                     -4774000000.0  -215000000.0  \n",
            "Deferred Income Tax                              -4774000000.0  -215000000.0  \n",
            "Depreciation Amortization Depletion              11284000000.0           NaN  \n",
            "Depreciation And Amortization                    11284000000.0           NaN  \n",
            "Net Income From Continuing Operations            94680000000.0           NaN  \n"
          ]
        }
      ]
    },
    {
      "cell_type": "markdown",
      "source": [
        "### Key Financial Ratios"
      ],
      "metadata": {
        "id": "KeP7svR6MSwD"
      }
    },
    {
      "cell_type": "markdown",
      "source": [
        "#### Market Capitalization, P/E Ratio, and Dividend Yield"
      ],
      "metadata": {
        "id": "TlvQg7wXMWYA"
      }
    },
    {
      "cell_type": "code",
      "source": [
        "market_cap = stock.info['marketCap']\n",
        "pe_ratio = stock.info['trailingPE']\n",
        "dividend_yield = stock.info['dividendYield']\n",
        "\n",
        "print(f\"Market Cap: {market_cap}\")\n",
        "print(f\"P/E Ratio: {pe_ratio}\")\n",
        "print(f\"Dividend Yield: {dividend_yield}\")"
      ],
      "metadata": {
        "colab": {
          "base_uri": "https://localhost:8080/"
        },
        "id": "WNfZuZkbMJrB",
        "outputId": "2082e948-311b-42eb-d2af-1f06f0382457"
      },
      "execution_count": 5,
      "outputs": [
        {
          "output_type": "stream",
          "name": "stdout",
          "text": [
            "Market Cap: 3591333740544\n",
            "P/E Ratio: 37.88748\n",
            "Dividend Yield: 0.42\n"
          ]
        }
      ]
    },
    {
      "cell_type": "markdown",
      "source": [
        "### Export Data to Excel for Analysis"
      ],
      "metadata": {
        "id": "duP8d2x8Mgi7"
      }
    },
    {
      "cell_type": "code",
      "source": [
        "# Save financial statements to Excel\n",
        "with pd.ExcelWriter(\"financial_statements.xlsx\") as writer:\n",
        "    income_statement.to_excel(writer, sheet_name=\"Income Statement\")\n",
        "    balance_sheet.to_excel(writer, sheet_name=\"Balance Sheet\")\n",
        "    cash_flow.to_excel(writer, sheet_name=\"Cash Flow\")"
      ],
      "metadata": {
        "id": "h06S7hhCMaFH"
      },
      "execution_count": 6,
      "outputs": []
    },
    {
      "cell_type": "markdown",
      "source": [
        "### Load Data"
      ],
      "metadata": {
        "id": "S3UGTRB7Ofgt"
      }
    },
    {
      "cell_type": "code",
      "source": [
        "# Load the Excel file and read the required sheets\n",
        "sheets = pd.read_excel(\"financial_statements.xlsx\", sheet_name=['Income Statement', 'Balance Sheet', 'Cash Flow'])\n",
        "\n",
        "# Display sheet names\n",
        "print(xls.sheet_names)"
      ],
      "metadata": {
        "colab": {
          "base_uri": "https://localhost:8080/"
        },
        "id": "ommfBCSGOh_z",
        "outputId": "b4fd9d70-895c-4704-c78d-8419cef4f3a2"
      },
      "execution_count": 72,
      "outputs": [
        {
          "output_type": "stream",
          "name": "stdout",
          "text": [
            "['Income Statement', 'Balance Sheet', 'Cash Flow']\n"
          ]
        }
      ]
    },
    {
      "cell_type": "code",
      "source": [
        "# Extract individual sheets\n",
        "income_df = sheets['Income Statement']\n",
        "balance_df = sheets['Balance Sheet']\n",
        "cash_flow_df = sheets['Cash Flow']"
      ],
      "metadata": {
        "id": "kRHUQWvSUtF7"
      },
      "execution_count": 73,
      "outputs": []
    },
    {
      "cell_type": "code",
      "source": [
        "income_df.head()    # View first 5 rows of Income Statement"
      ],
      "metadata": {
        "colab": {
          "base_uri": "https://localhost:8080/",
          "height": 241
        },
        "id": "Nc2ut8zcVlGZ",
        "outputId": "9bc63ae1-deab-4124-a66a-8f0193758db3"
      },
      "execution_count": 77,
      "outputs": [
        {
          "output_type": "execute_result",
          "data": {
            "text/plain": [
              "                                          Unnamed: 0  2024-09-30 00:00:00  \\\n",
              "0                        Tax Effect Of Unusual Items         0.000000e+00   \n",
              "1                                 Tax Rate For Calcs         2.410000e-01   \n",
              "2                                  Normalized EBITDA         1.346610e+11   \n",
              "3  Net Income From Continuing Operation Net Minor...         9.373600e+10   \n",
              "4                            Reconciled Depreciation         1.144500e+10   \n",
              "\n",
              "   2023-09-30 00:00:00  2022-09-30 00:00:00  2021-09-30 00:00:00  \\\n",
              "0         0.000000e+00         0.000000e+00         0.000000e+00   \n",
              "1         1.470000e-01         1.620000e-01         1.330000e-01   \n",
              "2         1.258200e+11         1.305410e+11         1.231360e+11   \n",
              "3         9.699500e+10         9.980300e+10         9.468000e+10   \n",
              "4         1.151900e+10         1.110400e+10         1.128400e+10   \n",
              "\n",
              "   2020-09-30 00:00:00  \n",
              "0                  NaN  \n",
              "1                  NaN  \n",
              "2                  NaN  \n",
              "3                  NaN  \n",
              "4                  NaN  "
            ],
            "text/html": [
              "\n",
              "  <div id=\"df-5a863bca-24d7-4f65-8cca-ff322a91e173\" class=\"colab-df-container\">\n",
              "    <div>\n",
              "<style scoped>\n",
              "    .dataframe tbody tr th:only-of-type {\n",
              "        vertical-align: middle;\n",
              "    }\n",
              "\n",
              "    .dataframe tbody tr th {\n",
              "        vertical-align: top;\n",
              "    }\n",
              "\n",
              "    .dataframe thead th {\n",
              "        text-align: right;\n",
              "    }\n",
              "</style>\n",
              "<table border=\"1\" class=\"dataframe\">\n",
              "  <thead>\n",
              "    <tr style=\"text-align: right;\">\n",
              "      <th></th>\n",
              "      <th>Unnamed: 0</th>\n",
              "      <th>2024-09-30 00:00:00</th>\n",
              "      <th>2023-09-30 00:00:00</th>\n",
              "      <th>2022-09-30 00:00:00</th>\n",
              "      <th>2021-09-30 00:00:00</th>\n",
              "      <th>2020-09-30 00:00:00</th>\n",
              "    </tr>\n",
              "  </thead>\n",
              "  <tbody>\n",
              "    <tr>\n",
              "      <th>0</th>\n",
              "      <td>Tax Effect Of Unusual Items</td>\n",
              "      <td>0.000000e+00</td>\n",
              "      <td>0.000000e+00</td>\n",
              "      <td>0.000000e+00</td>\n",
              "      <td>0.000000e+00</td>\n",
              "      <td>NaN</td>\n",
              "    </tr>\n",
              "    <tr>\n",
              "      <th>1</th>\n",
              "      <td>Tax Rate For Calcs</td>\n",
              "      <td>2.410000e-01</td>\n",
              "      <td>1.470000e-01</td>\n",
              "      <td>1.620000e-01</td>\n",
              "      <td>1.330000e-01</td>\n",
              "      <td>NaN</td>\n",
              "    </tr>\n",
              "    <tr>\n",
              "      <th>2</th>\n",
              "      <td>Normalized EBITDA</td>\n",
              "      <td>1.346610e+11</td>\n",
              "      <td>1.258200e+11</td>\n",
              "      <td>1.305410e+11</td>\n",
              "      <td>1.231360e+11</td>\n",
              "      <td>NaN</td>\n",
              "    </tr>\n",
              "    <tr>\n",
              "      <th>3</th>\n",
              "      <td>Net Income From Continuing Operation Net Minor...</td>\n",
              "      <td>9.373600e+10</td>\n",
              "      <td>9.699500e+10</td>\n",
              "      <td>9.980300e+10</td>\n",
              "      <td>9.468000e+10</td>\n",
              "      <td>NaN</td>\n",
              "    </tr>\n",
              "    <tr>\n",
              "      <th>4</th>\n",
              "      <td>Reconciled Depreciation</td>\n",
              "      <td>1.144500e+10</td>\n",
              "      <td>1.151900e+10</td>\n",
              "      <td>1.110400e+10</td>\n",
              "      <td>1.128400e+10</td>\n",
              "      <td>NaN</td>\n",
              "    </tr>\n",
              "  </tbody>\n",
              "</table>\n",
              "</div>\n",
              "    <div class=\"colab-df-buttons\">\n",
              "\n",
              "  <div class=\"colab-df-container\">\n",
              "    <button class=\"colab-df-convert\" onclick=\"convertToInteractive('df-5a863bca-24d7-4f65-8cca-ff322a91e173')\"\n",
              "            title=\"Convert this dataframe to an interactive table.\"\n",
              "            style=\"display:none;\">\n",
              "\n",
              "  <svg xmlns=\"http://www.w3.org/2000/svg\" height=\"24px\" viewBox=\"0 -960 960 960\">\n",
              "    <path d=\"M120-120v-720h720v720H120Zm60-500h600v-160H180v160Zm220 220h160v-160H400v160Zm0 220h160v-160H400v160ZM180-400h160v-160H180v160Zm440 0h160v-160H620v160ZM180-180h160v-160H180v160Zm440 0h160v-160H620v160Z\"/>\n",
              "  </svg>\n",
              "    </button>\n",
              "\n",
              "  <style>\n",
              "    .colab-df-container {\n",
              "      display:flex;\n",
              "      gap: 12px;\n",
              "    }\n",
              "\n",
              "    .colab-df-convert {\n",
              "      background-color: #E8F0FE;\n",
              "      border: none;\n",
              "      border-radius: 50%;\n",
              "      cursor: pointer;\n",
              "      display: none;\n",
              "      fill: #1967D2;\n",
              "      height: 32px;\n",
              "      padding: 0 0 0 0;\n",
              "      width: 32px;\n",
              "    }\n",
              "\n",
              "    .colab-df-convert:hover {\n",
              "      background-color: #E2EBFA;\n",
              "      box-shadow: 0px 1px 2px rgba(60, 64, 67, 0.3), 0px 1px 3px 1px rgba(60, 64, 67, 0.15);\n",
              "      fill: #174EA6;\n",
              "    }\n",
              "\n",
              "    .colab-df-buttons div {\n",
              "      margin-bottom: 4px;\n",
              "    }\n",
              "\n",
              "    [theme=dark] .colab-df-convert {\n",
              "      background-color: #3B4455;\n",
              "      fill: #D2E3FC;\n",
              "    }\n",
              "\n",
              "    [theme=dark] .colab-df-convert:hover {\n",
              "      background-color: #434B5C;\n",
              "      box-shadow: 0px 1px 3px 1px rgba(0, 0, 0, 0.15);\n",
              "      filter: drop-shadow(0px 1px 2px rgba(0, 0, 0, 0.3));\n",
              "      fill: #FFFFFF;\n",
              "    }\n",
              "  </style>\n",
              "\n",
              "    <script>\n",
              "      const buttonEl =\n",
              "        document.querySelector('#df-5a863bca-24d7-4f65-8cca-ff322a91e173 button.colab-df-convert');\n",
              "      buttonEl.style.display =\n",
              "        google.colab.kernel.accessAllowed ? 'block' : 'none';\n",
              "\n",
              "      async function convertToInteractive(key) {\n",
              "        const element = document.querySelector('#df-5a863bca-24d7-4f65-8cca-ff322a91e173');\n",
              "        const dataTable =\n",
              "          await google.colab.kernel.invokeFunction('convertToInteractive',\n",
              "                                                    [key], {});\n",
              "        if (!dataTable) return;\n",
              "\n",
              "        const docLinkHtml = 'Like what you see? Visit the ' +\n",
              "          '<a target=\"_blank\" href=https://colab.research.google.com/notebooks/data_table.ipynb>data table notebook</a>'\n",
              "          + ' to learn more about interactive tables.';\n",
              "        element.innerHTML = '';\n",
              "        dataTable['output_type'] = 'display_data';\n",
              "        await google.colab.output.renderOutput(dataTable, element);\n",
              "        const docLink = document.createElement('div');\n",
              "        docLink.innerHTML = docLinkHtml;\n",
              "        element.appendChild(docLink);\n",
              "      }\n",
              "    </script>\n",
              "  </div>\n",
              "\n",
              "\n",
              "<div id=\"df-7827a7fa-d95b-4f15-8873-9f77f57dd7af\">\n",
              "  <button class=\"colab-df-quickchart\" onclick=\"quickchart('df-7827a7fa-d95b-4f15-8873-9f77f57dd7af')\"\n",
              "            title=\"Suggest charts\"\n",
              "            style=\"display:none;\">\n",
              "\n",
              "<svg xmlns=\"http://www.w3.org/2000/svg\" height=\"24px\"viewBox=\"0 0 24 24\"\n",
              "     width=\"24px\">\n",
              "    <g>\n",
              "        <path d=\"M19 3H5c-1.1 0-2 .9-2 2v14c0 1.1.9 2 2 2h14c1.1 0 2-.9 2-2V5c0-1.1-.9-2-2-2zM9 17H7v-7h2v7zm4 0h-2V7h2v10zm4 0h-2v-4h2v4z\"/>\n",
              "    </g>\n",
              "</svg>\n",
              "  </button>\n",
              "\n",
              "<style>\n",
              "  .colab-df-quickchart {\n",
              "      --bg-color: #E8F0FE;\n",
              "      --fill-color: #1967D2;\n",
              "      --hover-bg-color: #E2EBFA;\n",
              "      --hover-fill-color: #174EA6;\n",
              "      --disabled-fill-color: #AAA;\n",
              "      --disabled-bg-color: #DDD;\n",
              "  }\n",
              "\n",
              "  [theme=dark] .colab-df-quickchart {\n",
              "      --bg-color: #3B4455;\n",
              "      --fill-color: #D2E3FC;\n",
              "      --hover-bg-color: #434B5C;\n",
              "      --hover-fill-color: #FFFFFF;\n",
              "      --disabled-bg-color: #3B4455;\n",
              "      --disabled-fill-color: #666;\n",
              "  }\n",
              "\n",
              "  .colab-df-quickchart {\n",
              "    background-color: var(--bg-color);\n",
              "    border: none;\n",
              "    border-radius: 50%;\n",
              "    cursor: pointer;\n",
              "    display: none;\n",
              "    fill: var(--fill-color);\n",
              "    height: 32px;\n",
              "    padding: 0;\n",
              "    width: 32px;\n",
              "  }\n",
              "\n",
              "  .colab-df-quickchart:hover {\n",
              "    background-color: var(--hover-bg-color);\n",
              "    box-shadow: 0 1px 2px rgba(60, 64, 67, 0.3), 0 1px 3px 1px rgba(60, 64, 67, 0.15);\n",
              "    fill: var(--button-hover-fill-color);\n",
              "  }\n",
              "\n",
              "  .colab-df-quickchart-complete:disabled,\n",
              "  .colab-df-quickchart-complete:disabled:hover {\n",
              "    background-color: var(--disabled-bg-color);\n",
              "    fill: var(--disabled-fill-color);\n",
              "    box-shadow: none;\n",
              "  }\n",
              "\n",
              "  .colab-df-spinner {\n",
              "    border: 2px solid var(--fill-color);\n",
              "    border-color: transparent;\n",
              "    border-bottom-color: var(--fill-color);\n",
              "    animation:\n",
              "      spin 1s steps(1) infinite;\n",
              "  }\n",
              "\n",
              "  @keyframes spin {\n",
              "    0% {\n",
              "      border-color: transparent;\n",
              "      border-bottom-color: var(--fill-color);\n",
              "      border-left-color: var(--fill-color);\n",
              "    }\n",
              "    20% {\n",
              "      border-color: transparent;\n",
              "      border-left-color: var(--fill-color);\n",
              "      border-top-color: var(--fill-color);\n",
              "    }\n",
              "    30% {\n",
              "      border-color: transparent;\n",
              "      border-left-color: var(--fill-color);\n",
              "      border-top-color: var(--fill-color);\n",
              "      border-right-color: var(--fill-color);\n",
              "    }\n",
              "    40% {\n",
              "      border-color: transparent;\n",
              "      border-right-color: var(--fill-color);\n",
              "      border-top-color: var(--fill-color);\n",
              "    }\n",
              "    60% {\n",
              "      border-color: transparent;\n",
              "      border-right-color: var(--fill-color);\n",
              "    }\n",
              "    80% {\n",
              "      border-color: transparent;\n",
              "      border-right-color: var(--fill-color);\n",
              "      border-bottom-color: var(--fill-color);\n",
              "    }\n",
              "    90% {\n",
              "      border-color: transparent;\n",
              "      border-bottom-color: var(--fill-color);\n",
              "    }\n",
              "  }\n",
              "</style>\n",
              "\n",
              "  <script>\n",
              "    async function quickchart(key) {\n",
              "      const quickchartButtonEl =\n",
              "        document.querySelector('#' + key + ' button');\n",
              "      quickchartButtonEl.disabled = true;  // To prevent multiple clicks.\n",
              "      quickchartButtonEl.classList.add('colab-df-spinner');\n",
              "      try {\n",
              "        const charts = await google.colab.kernel.invokeFunction(\n",
              "            'suggestCharts', [key], {});\n",
              "      } catch (error) {\n",
              "        console.error('Error during call to suggestCharts:', error);\n",
              "      }\n",
              "      quickchartButtonEl.classList.remove('colab-df-spinner');\n",
              "      quickchartButtonEl.classList.add('colab-df-quickchart-complete');\n",
              "    }\n",
              "    (() => {\n",
              "      let quickchartButtonEl =\n",
              "        document.querySelector('#df-7827a7fa-d95b-4f15-8873-9f77f57dd7af button');\n",
              "      quickchartButtonEl.style.display =\n",
              "        google.colab.kernel.accessAllowed ? 'block' : 'none';\n",
              "    })();\n",
              "  </script>\n",
              "</div>\n",
              "\n",
              "    </div>\n",
              "  </div>\n"
            ],
            "application/vnd.google.colaboratory.intrinsic+json": {
              "type": "dataframe",
              "variable_name": "income_df",
              "summary": "{\n  \"name\": \"income_df\",\n  \"rows\": 39,\n  \"fields\": [\n    {\n      \"column\": \"Unnamed: 0\",\n      \"properties\": {\n        \"dtype\": \"string\",\n        \"num_unique_values\": 39,\n        \"samples\": [\n          \"Research And Development\",\n          \"Cost Of Revenue\",\n          \"Reconciled Depreciation\"\n        ],\n        \"semantic_type\": \"\",\n        \"description\": \"\"\n      }\n    },\n    {\n      \"column\": \"2024-09-30 00:00:00\",\n      \"properties\": {\n        \"dtype\": \"number\",\n        \"std\": 101889961096.6992,\n        \"min\": 0.0,\n        \"max\": 391035000000.0,\n        \"num_unique_values\": 20,\n        \"samples\": [\n          0.0,\n          26097000000.0,\n          57467000000.0\n        ],\n        \"semantic_type\": \"\",\n        \"description\": \"\"\n      }\n    },\n    {\n      \"column\": \"2023-09-30 00:00:00\",\n      \"properties\": {\n        \"dtype\": \"number\",\n        \"std\": 98902781199.51735,\n        \"min\": -565000000.0,\n        \"max\": 383285000000.0,\n        \"num_unique_values\": 23,\n        \"samples\": [\n          16741000000.0,\n          3750000000.0,\n          0.0\n        ],\n        \"semantic_type\": \"\",\n        \"description\": \"\"\n      }\n    },\n    {\n      \"column\": \"2022-09-30 00:00:00\",\n      \"properties\": {\n        \"dtype\": \"number\",\n        \"std\": 102078048258.40219,\n        \"min\": -334000000.0,\n        \"max\": 394328000000.0,\n        \"num_unique_values\": 23,\n        \"samples\": [\n          19300000000.0,\n          2825000000.0,\n          0.0\n        ],\n        \"semantic_type\": \"\",\n        \"description\": \"\"\n      }\n    },\n    {\n      \"column\": \"2021-09-30 00:00:00\",\n      \"properties\": {\n        \"dtype\": \"number\",\n        \"std\": 95187443935.7727,\n        \"min\": 0.0,\n        \"max\": 365817000000.0,\n        \"num_unique_values\": 24,\n        \"samples\": [\n          2645000000.0,\n          14527000000.0,\n          0.0\n        ],\n        \"semantic_type\": \"\",\n        \"description\": \"\"\n      }\n    },\n    {\n      \"column\": \"2020-09-30 00:00:00\",\n      \"properties\": {\n        \"dtype\": \"number\",\n        \"std\": 1315472944.1028676,\n        \"min\": 890000000.0,\n        \"max\": 3763000000.0,\n        \"num_unique_values\": 3,\n        \"samples\": [\n          890000000.0,\n          2873000000.0,\n          3763000000.0\n        ],\n        \"semantic_type\": \"\",\n        \"description\": \"\"\n      }\n    }\n  ]\n}"
            }
          },
          "metadata": {},
          "execution_count": 77
        }
      ]
    },
    {
      "cell_type": "code",
      "source": [
        "balance_df.head()     # View first 5 rows of Balance Sheet"
      ],
      "metadata": {
        "colab": {
          "base_uri": "https://localhost:8080/",
          "height": 206
        },
        "id": "rNesvHxih_iR",
        "outputId": "b388f4c5-3342-436e-d3d0-c8986c761228"
      },
      "execution_count": 78,
      "outputs": [
        {
          "output_type": "execute_result",
          "data": {
            "text/plain": [
              "               Unnamed: 0  2024-09-30 00:00:00  2023-09-30 00:00:00  \\\n",
              "0  Treasury Shares Number                  NaN         0.000000e+00   \n",
              "1  Ordinary Shares Number         1.511679e+10         1.555006e+10   \n",
              "2            Share Issued         1.511679e+10         1.555006e+10   \n",
              "3                Net Debt         7.668600e+10         8.112300e+10   \n",
              "4              Total Debt         1.066290e+11         1.110880e+11   \n",
              "\n",
              "   2022-09-30 00:00:00  2021-09-30 00:00:00  2020-09-30 00:00:00  \n",
              "0                  NaN                  NaN                  NaN  \n",
              "1         1.594342e+10         1.642679e+10                  NaN  \n",
              "2         1.594342e+10         1.642679e+10                  NaN  \n",
              "3         9.642300e+10         8.977900e+10                  NaN  \n",
              "4         1.324800e+11         1.365220e+11                  NaN  "
            ],
            "text/html": [
              "\n",
              "  <div id=\"df-bd0e67f7-477f-4c59-9a85-ca5add22f415\" class=\"colab-df-container\">\n",
              "    <div>\n",
              "<style scoped>\n",
              "    .dataframe tbody tr th:only-of-type {\n",
              "        vertical-align: middle;\n",
              "    }\n",
              "\n",
              "    .dataframe tbody tr th {\n",
              "        vertical-align: top;\n",
              "    }\n",
              "\n",
              "    .dataframe thead th {\n",
              "        text-align: right;\n",
              "    }\n",
              "</style>\n",
              "<table border=\"1\" class=\"dataframe\">\n",
              "  <thead>\n",
              "    <tr style=\"text-align: right;\">\n",
              "      <th></th>\n",
              "      <th>Unnamed: 0</th>\n",
              "      <th>2024-09-30 00:00:00</th>\n",
              "      <th>2023-09-30 00:00:00</th>\n",
              "      <th>2022-09-30 00:00:00</th>\n",
              "      <th>2021-09-30 00:00:00</th>\n",
              "      <th>2020-09-30 00:00:00</th>\n",
              "    </tr>\n",
              "  </thead>\n",
              "  <tbody>\n",
              "    <tr>\n",
              "      <th>0</th>\n",
              "      <td>Treasury Shares Number</td>\n",
              "      <td>NaN</td>\n",
              "      <td>0.000000e+00</td>\n",
              "      <td>NaN</td>\n",
              "      <td>NaN</td>\n",
              "      <td>NaN</td>\n",
              "    </tr>\n",
              "    <tr>\n",
              "      <th>1</th>\n",
              "      <td>Ordinary Shares Number</td>\n",
              "      <td>1.511679e+10</td>\n",
              "      <td>1.555006e+10</td>\n",
              "      <td>1.594342e+10</td>\n",
              "      <td>1.642679e+10</td>\n",
              "      <td>NaN</td>\n",
              "    </tr>\n",
              "    <tr>\n",
              "      <th>2</th>\n",
              "      <td>Share Issued</td>\n",
              "      <td>1.511679e+10</td>\n",
              "      <td>1.555006e+10</td>\n",
              "      <td>1.594342e+10</td>\n",
              "      <td>1.642679e+10</td>\n",
              "      <td>NaN</td>\n",
              "    </tr>\n",
              "    <tr>\n",
              "      <th>3</th>\n",
              "      <td>Net Debt</td>\n",
              "      <td>7.668600e+10</td>\n",
              "      <td>8.112300e+10</td>\n",
              "      <td>9.642300e+10</td>\n",
              "      <td>8.977900e+10</td>\n",
              "      <td>NaN</td>\n",
              "    </tr>\n",
              "    <tr>\n",
              "      <th>4</th>\n",
              "      <td>Total Debt</td>\n",
              "      <td>1.066290e+11</td>\n",
              "      <td>1.110880e+11</td>\n",
              "      <td>1.324800e+11</td>\n",
              "      <td>1.365220e+11</td>\n",
              "      <td>NaN</td>\n",
              "    </tr>\n",
              "  </tbody>\n",
              "</table>\n",
              "</div>\n",
              "    <div class=\"colab-df-buttons\">\n",
              "\n",
              "  <div class=\"colab-df-container\">\n",
              "    <button class=\"colab-df-convert\" onclick=\"convertToInteractive('df-bd0e67f7-477f-4c59-9a85-ca5add22f415')\"\n",
              "            title=\"Convert this dataframe to an interactive table.\"\n",
              "            style=\"display:none;\">\n",
              "\n",
              "  <svg xmlns=\"http://www.w3.org/2000/svg\" height=\"24px\" viewBox=\"0 -960 960 960\">\n",
              "    <path d=\"M120-120v-720h720v720H120Zm60-500h600v-160H180v160Zm220 220h160v-160H400v160Zm0 220h160v-160H400v160ZM180-400h160v-160H180v160Zm440 0h160v-160H620v160ZM180-180h160v-160H180v160Zm440 0h160v-160H620v160Z\"/>\n",
              "  </svg>\n",
              "    </button>\n",
              "\n",
              "  <style>\n",
              "    .colab-df-container {\n",
              "      display:flex;\n",
              "      gap: 12px;\n",
              "    }\n",
              "\n",
              "    .colab-df-convert {\n",
              "      background-color: #E8F0FE;\n",
              "      border: none;\n",
              "      border-radius: 50%;\n",
              "      cursor: pointer;\n",
              "      display: none;\n",
              "      fill: #1967D2;\n",
              "      height: 32px;\n",
              "      padding: 0 0 0 0;\n",
              "      width: 32px;\n",
              "    }\n",
              "\n",
              "    .colab-df-convert:hover {\n",
              "      background-color: #E2EBFA;\n",
              "      box-shadow: 0px 1px 2px rgba(60, 64, 67, 0.3), 0px 1px 3px 1px rgba(60, 64, 67, 0.15);\n",
              "      fill: #174EA6;\n",
              "    }\n",
              "\n",
              "    .colab-df-buttons div {\n",
              "      margin-bottom: 4px;\n",
              "    }\n",
              "\n",
              "    [theme=dark] .colab-df-convert {\n",
              "      background-color: #3B4455;\n",
              "      fill: #D2E3FC;\n",
              "    }\n",
              "\n",
              "    [theme=dark] .colab-df-convert:hover {\n",
              "      background-color: #434B5C;\n",
              "      box-shadow: 0px 1px 3px 1px rgba(0, 0, 0, 0.15);\n",
              "      filter: drop-shadow(0px 1px 2px rgba(0, 0, 0, 0.3));\n",
              "      fill: #FFFFFF;\n",
              "    }\n",
              "  </style>\n",
              "\n",
              "    <script>\n",
              "      const buttonEl =\n",
              "        document.querySelector('#df-bd0e67f7-477f-4c59-9a85-ca5add22f415 button.colab-df-convert');\n",
              "      buttonEl.style.display =\n",
              "        google.colab.kernel.accessAllowed ? 'block' : 'none';\n",
              "\n",
              "      async function convertToInteractive(key) {\n",
              "        const element = document.querySelector('#df-bd0e67f7-477f-4c59-9a85-ca5add22f415');\n",
              "        const dataTable =\n",
              "          await google.colab.kernel.invokeFunction('convertToInteractive',\n",
              "                                                    [key], {});\n",
              "        if (!dataTable) return;\n",
              "\n",
              "        const docLinkHtml = 'Like what you see? Visit the ' +\n",
              "          '<a target=\"_blank\" href=https://colab.research.google.com/notebooks/data_table.ipynb>data table notebook</a>'\n",
              "          + ' to learn more about interactive tables.';\n",
              "        element.innerHTML = '';\n",
              "        dataTable['output_type'] = 'display_data';\n",
              "        await google.colab.output.renderOutput(dataTable, element);\n",
              "        const docLink = document.createElement('div');\n",
              "        docLink.innerHTML = docLinkHtml;\n",
              "        element.appendChild(docLink);\n",
              "      }\n",
              "    </script>\n",
              "  </div>\n",
              "\n",
              "\n",
              "<div id=\"df-60d27533-51fe-48fa-b871-1ffe53224ee8\">\n",
              "  <button class=\"colab-df-quickchart\" onclick=\"quickchart('df-60d27533-51fe-48fa-b871-1ffe53224ee8')\"\n",
              "            title=\"Suggest charts\"\n",
              "            style=\"display:none;\">\n",
              "\n",
              "<svg xmlns=\"http://www.w3.org/2000/svg\" height=\"24px\"viewBox=\"0 0 24 24\"\n",
              "     width=\"24px\">\n",
              "    <g>\n",
              "        <path d=\"M19 3H5c-1.1 0-2 .9-2 2v14c0 1.1.9 2 2 2h14c1.1 0 2-.9 2-2V5c0-1.1-.9-2-2-2zM9 17H7v-7h2v7zm4 0h-2V7h2v10zm4 0h-2v-4h2v4z\"/>\n",
              "    </g>\n",
              "</svg>\n",
              "  </button>\n",
              "\n",
              "<style>\n",
              "  .colab-df-quickchart {\n",
              "      --bg-color: #E8F0FE;\n",
              "      --fill-color: #1967D2;\n",
              "      --hover-bg-color: #E2EBFA;\n",
              "      --hover-fill-color: #174EA6;\n",
              "      --disabled-fill-color: #AAA;\n",
              "      --disabled-bg-color: #DDD;\n",
              "  }\n",
              "\n",
              "  [theme=dark] .colab-df-quickchart {\n",
              "      --bg-color: #3B4455;\n",
              "      --fill-color: #D2E3FC;\n",
              "      --hover-bg-color: #434B5C;\n",
              "      --hover-fill-color: #FFFFFF;\n",
              "      --disabled-bg-color: #3B4455;\n",
              "      --disabled-fill-color: #666;\n",
              "  }\n",
              "\n",
              "  .colab-df-quickchart {\n",
              "    background-color: var(--bg-color);\n",
              "    border: none;\n",
              "    border-radius: 50%;\n",
              "    cursor: pointer;\n",
              "    display: none;\n",
              "    fill: var(--fill-color);\n",
              "    height: 32px;\n",
              "    padding: 0;\n",
              "    width: 32px;\n",
              "  }\n",
              "\n",
              "  .colab-df-quickchart:hover {\n",
              "    background-color: var(--hover-bg-color);\n",
              "    box-shadow: 0 1px 2px rgba(60, 64, 67, 0.3), 0 1px 3px 1px rgba(60, 64, 67, 0.15);\n",
              "    fill: var(--button-hover-fill-color);\n",
              "  }\n",
              "\n",
              "  .colab-df-quickchart-complete:disabled,\n",
              "  .colab-df-quickchart-complete:disabled:hover {\n",
              "    background-color: var(--disabled-bg-color);\n",
              "    fill: var(--disabled-fill-color);\n",
              "    box-shadow: none;\n",
              "  }\n",
              "\n",
              "  .colab-df-spinner {\n",
              "    border: 2px solid var(--fill-color);\n",
              "    border-color: transparent;\n",
              "    border-bottom-color: var(--fill-color);\n",
              "    animation:\n",
              "      spin 1s steps(1) infinite;\n",
              "  }\n",
              "\n",
              "  @keyframes spin {\n",
              "    0% {\n",
              "      border-color: transparent;\n",
              "      border-bottom-color: var(--fill-color);\n",
              "      border-left-color: var(--fill-color);\n",
              "    }\n",
              "    20% {\n",
              "      border-color: transparent;\n",
              "      border-left-color: var(--fill-color);\n",
              "      border-top-color: var(--fill-color);\n",
              "    }\n",
              "    30% {\n",
              "      border-color: transparent;\n",
              "      border-left-color: var(--fill-color);\n",
              "      border-top-color: var(--fill-color);\n",
              "      border-right-color: var(--fill-color);\n",
              "    }\n",
              "    40% {\n",
              "      border-color: transparent;\n",
              "      border-right-color: var(--fill-color);\n",
              "      border-top-color: var(--fill-color);\n",
              "    }\n",
              "    60% {\n",
              "      border-color: transparent;\n",
              "      border-right-color: var(--fill-color);\n",
              "    }\n",
              "    80% {\n",
              "      border-color: transparent;\n",
              "      border-right-color: var(--fill-color);\n",
              "      border-bottom-color: var(--fill-color);\n",
              "    }\n",
              "    90% {\n",
              "      border-color: transparent;\n",
              "      border-bottom-color: var(--fill-color);\n",
              "    }\n",
              "  }\n",
              "</style>\n",
              "\n",
              "  <script>\n",
              "    async function quickchart(key) {\n",
              "      const quickchartButtonEl =\n",
              "        document.querySelector('#' + key + ' button');\n",
              "      quickchartButtonEl.disabled = true;  // To prevent multiple clicks.\n",
              "      quickchartButtonEl.classList.add('colab-df-spinner');\n",
              "      try {\n",
              "        const charts = await google.colab.kernel.invokeFunction(\n",
              "            'suggestCharts', [key], {});\n",
              "      } catch (error) {\n",
              "        console.error('Error during call to suggestCharts:', error);\n",
              "      }\n",
              "      quickchartButtonEl.classList.remove('colab-df-spinner');\n",
              "      quickchartButtonEl.classList.add('colab-df-quickchart-complete');\n",
              "    }\n",
              "    (() => {\n",
              "      let quickchartButtonEl =\n",
              "        document.querySelector('#df-60d27533-51fe-48fa-b871-1ffe53224ee8 button');\n",
              "      quickchartButtonEl.style.display =\n",
              "        google.colab.kernel.accessAllowed ? 'block' : 'none';\n",
              "    })();\n",
              "  </script>\n",
              "</div>\n",
              "\n",
              "    </div>\n",
              "  </div>\n"
            ],
            "application/vnd.google.colaboratory.intrinsic+json": {
              "type": "dataframe",
              "variable_name": "balance_df",
              "summary": "{\n  \"name\": \"balance_df\",\n  \"rows\": 68,\n  \"fields\": [\n    {\n      \"column\": \"Unnamed: 0\",\n      \"properties\": {\n        \"dtype\": \"string\",\n        \"num_unique_values\": 68,\n        \"samples\": [\n          \"Other Investments\",\n          \"Retained Earnings\",\n          \"Total Debt\"\n        ],\n        \"semantic_type\": \"\",\n        \"description\": \"\"\n      }\n    },\n    {\n      \"column\": \"2024-09-30 00:00:00\",\n      \"properties\": {\n        \"dtype\": \"number\",\n        \"std\": 72689514919.29655,\n        \"min\": -73448000000.0,\n        \"max\": 364980000000.0,\n        \"num_unique_values\": 47,\n        \"samples\": [\n          19499000000.0,\n          66243000000.0,\n          55335000000.0\n        ],\n        \"semantic_type\": \"\",\n        \"description\": \"\"\n      }\n    },\n    {\n      \"column\": \"2023-09-30 00:00:00\",\n      \"properties\": {\n        \"dtype\": \"number\",\n        \"std\": 69380844945.34164,\n        \"min\": -70884000000.0,\n        \"max\": 352583000000.0,\n        \"num_unique_values\": 51,\n        \"samples\": [\n          60985000000.0,\n          143566000000.0,\n          61555000000.0\n        ],\n        \"semantic_type\": \"\",\n        \"description\": \"\"\n      }\n    },\n    {\n      \"column\": \"2022-09-30 00:00:00\",\n      \"properties\": {\n        \"dtype\": \"number\",\n        \"std\": 71909410278.1137,\n        \"min\": -72340000000.0,\n        \"max\": 352755000000.0,\n        \"num_unique_values\": 53,\n        \"samples\": [\n          52630000000.0,\n          0.0,\n          28184000000.0\n        ],\n        \"semantic_type\": \"\",\n        \"description\": \"\"\n      }\n    },\n    {\n      \"column\": \"2021-09-30 00:00:00\",\n      \"properties\": {\n        \"dtype\": \"number\",\n        \"std\": 72721332536.10081,\n        \"min\": -70283000000.0,\n        \"max\": 351002000000.0,\n        \"num_unique_values\": 50,\n        \"samples\": [\n          18361000000.0,\n          134836000000.0,\n          127877000000.0\n        ],\n        \"semantic_type\": \"\",\n        \"description\": \"\"\n      }\n    },\n    {\n      \"column\": \"2020-09-30 00:00:00\",\n      \"properties\": {\n        \"dtype\": \"number\",\n        \"std\": 42087428588.594,\n        \"min\": 1460000000.0,\n        \"max\": 100887000000.0,\n        \"num_unique_values\": 5,\n        \"samples\": [\n          8382000000.0,\n          8570000000.0,\n          1460000000.0\n        ],\n        \"semantic_type\": \"\",\n        \"description\": \"\"\n      }\n    }\n  ]\n}"
            }
          },
          "metadata": {},
          "execution_count": 78
        }
      ]
    },
    {
      "cell_type": "code",
      "source": [
        "cash_flow_df.head()   # View first 5 rows of Cash Flow"
      ],
      "metadata": {
        "colab": {
          "base_uri": "https://localhost:8080/",
          "height": 206
        },
        "id": "GYrOmvFuV0BG",
        "outputId": "75be8cd2-0e7c-4444-95e3-e72b0102f537"
      },
      "execution_count": 79,
      "outputs": [
        {
          "output_type": "execute_result",
          "data": {
            "text/plain": [
              "                    Unnamed: 0  2024-09-30 00:00:00  2023-09-30 00:00:00  \\\n",
              "0               Free Cash Flow         1.088070e+11         9.958400e+10   \n",
              "1  Repurchase Of Capital Stock        -9.494900e+10        -7.755000e+10   \n",
              "2            Repayment Of Debt        -9.958000e+09        -1.115100e+10   \n",
              "3             Issuance Of Debt         0.000000e+00         5.228000e+09   \n",
              "4    Issuance Of Capital Stock                  NaN                  NaN   \n",
              "\n",
              "   2022-09-30 00:00:00  2021-09-30 00:00:00  2020-09-30 00:00:00  \n",
              "0         1.114430e+11          92953000000                  NaN  \n",
              "1        -8.940200e+10         -85971000000                  NaN  \n",
              "2        -9.543000e+09          -8750000000                  NaN  \n",
              "3         5.465000e+09          20393000000                  NaN  \n",
              "4                  NaN           1105000000          880000000.0  "
            ],
            "text/html": [
              "\n",
              "  <div id=\"df-f613d745-0573-4bb8-ac59-dc91d06bbf25\" class=\"colab-df-container\">\n",
              "    <div>\n",
              "<style scoped>\n",
              "    .dataframe tbody tr th:only-of-type {\n",
              "        vertical-align: middle;\n",
              "    }\n",
              "\n",
              "    .dataframe tbody tr th {\n",
              "        vertical-align: top;\n",
              "    }\n",
              "\n",
              "    .dataframe thead th {\n",
              "        text-align: right;\n",
              "    }\n",
              "</style>\n",
              "<table border=\"1\" class=\"dataframe\">\n",
              "  <thead>\n",
              "    <tr style=\"text-align: right;\">\n",
              "      <th></th>\n",
              "      <th>Unnamed: 0</th>\n",
              "      <th>2024-09-30 00:00:00</th>\n",
              "      <th>2023-09-30 00:00:00</th>\n",
              "      <th>2022-09-30 00:00:00</th>\n",
              "      <th>2021-09-30 00:00:00</th>\n",
              "      <th>2020-09-30 00:00:00</th>\n",
              "    </tr>\n",
              "  </thead>\n",
              "  <tbody>\n",
              "    <tr>\n",
              "      <th>0</th>\n",
              "      <td>Free Cash Flow</td>\n",
              "      <td>1.088070e+11</td>\n",
              "      <td>9.958400e+10</td>\n",
              "      <td>1.114430e+11</td>\n",
              "      <td>92953000000</td>\n",
              "      <td>NaN</td>\n",
              "    </tr>\n",
              "    <tr>\n",
              "      <th>1</th>\n",
              "      <td>Repurchase Of Capital Stock</td>\n",
              "      <td>-9.494900e+10</td>\n",
              "      <td>-7.755000e+10</td>\n",
              "      <td>-8.940200e+10</td>\n",
              "      <td>-85971000000</td>\n",
              "      <td>NaN</td>\n",
              "    </tr>\n",
              "    <tr>\n",
              "      <th>2</th>\n",
              "      <td>Repayment Of Debt</td>\n",
              "      <td>-9.958000e+09</td>\n",
              "      <td>-1.115100e+10</td>\n",
              "      <td>-9.543000e+09</td>\n",
              "      <td>-8750000000</td>\n",
              "      <td>NaN</td>\n",
              "    </tr>\n",
              "    <tr>\n",
              "      <th>3</th>\n",
              "      <td>Issuance Of Debt</td>\n",
              "      <td>0.000000e+00</td>\n",
              "      <td>5.228000e+09</td>\n",
              "      <td>5.465000e+09</td>\n",
              "      <td>20393000000</td>\n",
              "      <td>NaN</td>\n",
              "    </tr>\n",
              "    <tr>\n",
              "      <th>4</th>\n",
              "      <td>Issuance Of Capital Stock</td>\n",
              "      <td>NaN</td>\n",
              "      <td>NaN</td>\n",
              "      <td>NaN</td>\n",
              "      <td>1105000000</td>\n",
              "      <td>880000000.0</td>\n",
              "    </tr>\n",
              "  </tbody>\n",
              "</table>\n",
              "</div>\n",
              "    <div class=\"colab-df-buttons\">\n",
              "\n",
              "  <div class=\"colab-df-container\">\n",
              "    <button class=\"colab-df-convert\" onclick=\"convertToInteractive('df-f613d745-0573-4bb8-ac59-dc91d06bbf25')\"\n",
              "            title=\"Convert this dataframe to an interactive table.\"\n",
              "            style=\"display:none;\">\n",
              "\n",
              "  <svg xmlns=\"http://www.w3.org/2000/svg\" height=\"24px\" viewBox=\"0 -960 960 960\">\n",
              "    <path d=\"M120-120v-720h720v720H120Zm60-500h600v-160H180v160Zm220 220h160v-160H400v160Zm0 220h160v-160H400v160ZM180-400h160v-160H180v160Zm440 0h160v-160H620v160ZM180-180h160v-160H180v160Zm440 0h160v-160H620v160Z\"/>\n",
              "  </svg>\n",
              "    </button>\n",
              "\n",
              "  <style>\n",
              "    .colab-df-container {\n",
              "      display:flex;\n",
              "      gap: 12px;\n",
              "    }\n",
              "\n",
              "    .colab-df-convert {\n",
              "      background-color: #E8F0FE;\n",
              "      border: none;\n",
              "      border-radius: 50%;\n",
              "      cursor: pointer;\n",
              "      display: none;\n",
              "      fill: #1967D2;\n",
              "      height: 32px;\n",
              "      padding: 0 0 0 0;\n",
              "      width: 32px;\n",
              "    }\n",
              "\n",
              "    .colab-df-convert:hover {\n",
              "      background-color: #E2EBFA;\n",
              "      box-shadow: 0px 1px 2px rgba(60, 64, 67, 0.3), 0px 1px 3px 1px rgba(60, 64, 67, 0.15);\n",
              "      fill: #174EA6;\n",
              "    }\n",
              "\n",
              "    .colab-df-buttons div {\n",
              "      margin-bottom: 4px;\n",
              "    }\n",
              "\n",
              "    [theme=dark] .colab-df-convert {\n",
              "      background-color: #3B4455;\n",
              "      fill: #D2E3FC;\n",
              "    }\n",
              "\n",
              "    [theme=dark] .colab-df-convert:hover {\n",
              "      background-color: #434B5C;\n",
              "      box-shadow: 0px 1px 3px 1px rgba(0, 0, 0, 0.15);\n",
              "      filter: drop-shadow(0px 1px 2px rgba(0, 0, 0, 0.3));\n",
              "      fill: #FFFFFF;\n",
              "    }\n",
              "  </style>\n",
              "\n",
              "    <script>\n",
              "      const buttonEl =\n",
              "        document.querySelector('#df-f613d745-0573-4bb8-ac59-dc91d06bbf25 button.colab-df-convert');\n",
              "      buttonEl.style.display =\n",
              "        google.colab.kernel.accessAllowed ? 'block' : 'none';\n",
              "\n",
              "      async function convertToInteractive(key) {\n",
              "        const element = document.querySelector('#df-f613d745-0573-4bb8-ac59-dc91d06bbf25');\n",
              "        const dataTable =\n",
              "          await google.colab.kernel.invokeFunction('convertToInteractive',\n",
              "                                                    [key], {});\n",
              "        if (!dataTable) return;\n",
              "\n",
              "        const docLinkHtml = 'Like what you see? Visit the ' +\n",
              "          '<a target=\"_blank\" href=https://colab.research.google.com/notebooks/data_table.ipynb>data table notebook</a>'\n",
              "          + ' to learn more about interactive tables.';\n",
              "        element.innerHTML = '';\n",
              "        dataTable['output_type'] = 'display_data';\n",
              "        await google.colab.output.renderOutput(dataTable, element);\n",
              "        const docLink = document.createElement('div');\n",
              "        docLink.innerHTML = docLinkHtml;\n",
              "        element.appendChild(docLink);\n",
              "      }\n",
              "    </script>\n",
              "  </div>\n",
              "\n",
              "\n",
              "<div id=\"df-3d43d142-d390-48e2-9214-6db6bb63ca55\">\n",
              "  <button class=\"colab-df-quickchart\" onclick=\"quickchart('df-3d43d142-d390-48e2-9214-6db6bb63ca55')\"\n",
              "            title=\"Suggest charts\"\n",
              "            style=\"display:none;\">\n",
              "\n",
              "<svg xmlns=\"http://www.w3.org/2000/svg\" height=\"24px\"viewBox=\"0 0 24 24\"\n",
              "     width=\"24px\">\n",
              "    <g>\n",
              "        <path d=\"M19 3H5c-1.1 0-2 .9-2 2v14c0 1.1.9 2 2 2h14c1.1 0 2-.9 2-2V5c0-1.1-.9-2-2-2zM9 17H7v-7h2v7zm4 0h-2V7h2v10zm4 0h-2v-4h2v4z\"/>\n",
              "    </g>\n",
              "</svg>\n",
              "  </button>\n",
              "\n",
              "<style>\n",
              "  .colab-df-quickchart {\n",
              "      --bg-color: #E8F0FE;\n",
              "      --fill-color: #1967D2;\n",
              "      --hover-bg-color: #E2EBFA;\n",
              "      --hover-fill-color: #174EA6;\n",
              "      --disabled-fill-color: #AAA;\n",
              "      --disabled-bg-color: #DDD;\n",
              "  }\n",
              "\n",
              "  [theme=dark] .colab-df-quickchart {\n",
              "      --bg-color: #3B4455;\n",
              "      --fill-color: #D2E3FC;\n",
              "      --hover-bg-color: #434B5C;\n",
              "      --hover-fill-color: #FFFFFF;\n",
              "      --disabled-bg-color: #3B4455;\n",
              "      --disabled-fill-color: #666;\n",
              "  }\n",
              "\n",
              "  .colab-df-quickchart {\n",
              "    background-color: var(--bg-color);\n",
              "    border: none;\n",
              "    border-radius: 50%;\n",
              "    cursor: pointer;\n",
              "    display: none;\n",
              "    fill: var(--fill-color);\n",
              "    height: 32px;\n",
              "    padding: 0;\n",
              "    width: 32px;\n",
              "  }\n",
              "\n",
              "  .colab-df-quickchart:hover {\n",
              "    background-color: var(--hover-bg-color);\n",
              "    box-shadow: 0 1px 2px rgba(60, 64, 67, 0.3), 0 1px 3px 1px rgba(60, 64, 67, 0.15);\n",
              "    fill: var(--button-hover-fill-color);\n",
              "  }\n",
              "\n",
              "  .colab-df-quickchart-complete:disabled,\n",
              "  .colab-df-quickchart-complete:disabled:hover {\n",
              "    background-color: var(--disabled-bg-color);\n",
              "    fill: var(--disabled-fill-color);\n",
              "    box-shadow: none;\n",
              "  }\n",
              "\n",
              "  .colab-df-spinner {\n",
              "    border: 2px solid var(--fill-color);\n",
              "    border-color: transparent;\n",
              "    border-bottom-color: var(--fill-color);\n",
              "    animation:\n",
              "      spin 1s steps(1) infinite;\n",
              "  }\n",
              "\n",
              "  @keyframes spin {\n",
              "    0% {\n",
              "      border-color: transparent;\n",
              "      border-bottom-color: var(--fill-color);\n",
              "      border-left-color: var(--fill-color);\n",
              "    }\n",
              "    20% {\n",
              "      border-color: transparent;\n",
              "      border-left-color: var(--fill-color);\n",
              "      border-top-color: var(--fill-color);\n",
              "    }\n",
              "    30% {\n",
              "      border-color: transparent;\n",
              "      border-left-color: var(--fill-color);\n",
              "      border-top-color: var(--fill-color);\n",
              "      border-right-color: var(--fill-color);\n",
              "    }\n",
              "    40% {\n",
              "      border-color: transparent;\n",
              "      border-right-color: var(--fill-color);\n",
              "      border-top-color: var(--fill-color);\n",
              "    }\n",
              "    60% {\n",
              "      border-color: transparent;\n",
              "      border-right-color: var(--fill-color);\n",
              "    }\n",
              "    80% {\n",
              "      border-color: transparent;\n",
              "      border-right-color: var(--fill-color);\n",
              "      border-bottom-color: var(--fill-color);\n",
              "    }\n",
              "    90% {\n",
              "      border-color: transparent;\n",
              "      border-bottom-color: var(--fill-color);\n",
              "    }\n",
              "  }\n",
              "</style>\n",
              "\n",
              "  <script>\n",
              "    async function quickchart(key) {\n",
              "      const quickchartButtonEl =\n",
              "        document.querySelector('#' + key + ' button');\n",
              "      quickchartButtonEl.disabled = true;  // To prevent multiple clicks.\n",
              "      quickchartButtonEl.classList.add('colab-df-spinner');\n",
              "      try {\n",
              "        const charts = await google.colab.kernel.invokeFunction(\n",
              "            'suggestCharts', [key], {});\n",
              "      } catch (error) {\n",
              "        console.error('Error during call to suggestCharts:', error);\n",
              "      }\n",
              "      quickchartButtonEl.classList.remove('colab-df-spinner');\n",
              "      quickchartButtonEl.classList.add('colab-df-quickchart-complete');\n",
              "    }\n",
              "    (() => {\n",
              "      let quickchartButtonEl =\n",
              "        document.querySelector('#df-3d43d142-d390-48e2-9214-6db6bb63ca55 button');\n",
              "      quickchartButtonEl.style.display =\n",
              "        google.colab.kernel.accessAllowed ? 'block' : 'none';\n",
              "    })();\n",
              "  </script>\n",
              "</div>\n",
              "\n",
              "    </div>\n",
              "  </div>\n"
            ],
            "application/vnd.google.colaboratory.intrinsic+json": {
              "type": "dataframe",
              "variable_name": "cash_flow_df",
              "summary": "{\n  \"name\": \"cash_flow_df\",\n  \"rows\": 53,\n  \"fields\": [\n    {\n      \"column\": \"Unnamed: 0\",\n      \"properties\": {\n        \"dtype\": \"string\",\n        \"num_unique_values\": 53,\n        \"samples\": [\n          \"Net Issuance Payments Of Debt\",\n          \"Change In Payable\",\n          \"Stock Based Compensation\"\n        ],\n        \"semantic_type\": \"\",\n        \"description\": \"\"\n      }\n    },\n    {\n      \"column\": \"2024-09-30 00:00:00\",\n      \"properties\": {\n        \"dtype\": \"number\",\n        \"std\": 51441859781.79735,\n        \"min\": -121983000000.0,\n        \"max\": 118254000000.0,\n        \"num_unique_values\": 31,\n        \"samples\": [\n          -2266000000.0,\n          -1308000000.0,\n          6020000000.0\n        ],\n        \"semantic_type\": \"\",\n        \"description\": \"\"\n      }\n    },\n    {\n      \"column\": \"2023-09-30 00:00:00\",\n      \"properties\": {\n        \"dtype\": \"number\",\n        \"std\": 45295982234.26297,\n        \"min\": -108488000000.0,\n        \"max\": 110543000000.0,\n        \"num_unique_values\": 33,\n        \"samples\": [\n          11519000000.0,\n          -5923000000.0,\n          -1618000000.0\n        ],\n        \"semantic_type\": \"\",\n        \"description\": \"\"\n      }\n    },\n    {\n      \"column\": \"2022-09-30 00:00:00\",\n      \"properties\": {\n        \"dtype\": \"number\",\n        \"std\": 48275950695.15238,\n        \"min\": -110749000000.0,\n        \"max\": 122151000000.0,\n        \"num_unique_values\": 36,\n        \"samples\": [\n          99803000000.0,\n          -123000000.0,\n          -6499000000.0\n        ],\n        \"semantic_type\": \"\",\n        \"description\": \"\"\n      }\n    },\n    {\n      \"column\": \"2021-09-30 00:00:00\",\n      \"properties\": {\n        \"dtype\": \"number\",\n        \"std\": 45901420887,\n        \"min\": -109558000000,\n        \"max\": 106483000000,\n        \"num_unique_values\": 37,\n        \"samples\": [\n          -14545000000,\n          -14467000000,\n          1105000000\n        ],\n        \"semantic_type\": \"\",\n        \"description\": \"\"\n      }\n    },\n    {\n      \"column\": \"2020-09-30 00:00:00\",\n      \"properties\": {\n        \"dtype\": \"number\",\n        \"std\": 1613052291.9076653,\n        \"min\": -1524000000.0,\n        \"max\": 3002000000.0,\n        \"num_unique_values\": 5,\n        \"samples\": [\n          3002000000.0,\n          -215000000.0,\n          -1524000000.0\n        ],\n        \"semantic_type\": \"\",\n        \"description\": \"\"\n      }\n    }\n  ]\n}"
            }
          },
          "metadata": {},
          "execution_count": 79
        }
      ]
    },
    {
      "cell_type": "code",
      "source": [
        "print(income_df.info())\n",
        "print(balance_df.info())\n",
        "print(cash_flow_df.info())"
      ],
      "metadata": {
        "colab": {
          "base_uri": "https://localhost:8080/"
        },
        "id": "hhPv6OkbiR1_",
        "outputId": "c9df150a-031a-4674-efb2-65fb2495c4e9"
      },
      "execution_count": 80,
      "outputs": [
        {
          "output_type": "stream",
          "name": "stdout",
          "text": [
            "<class 'pandas.core.frame.DataFrame'>\n",
            "RangeIndex: 39 entries, 0 to 38\n",
            "Data columns (total 6 columns):\n",
            " #   Column               Non-Null Count  Dtype  \n",
            "---  ------               --------------  -----  \n",
            " 0   Unnamed: 0           39 non-null     object \n",
            " 1   2024-09-30 00:00:00  33 non-null     float64\n",
            " 2   2023-09-30 00:00:00  39 non-null     float64\n",
            " 3   2022-09-30 00:00:00  39 non-null     float64\n",
            " 4   2021-09-30 00:00:00  39 non-null     float64\n",
            " 5   2020-09-30 00:00:00  6 non-null      float64\n",
            "dtypes: float64(5), object(1)\n",
            "memory usage: 2.0+ KB\n",
            "None\n",
            "<class 'pandas.core.frame.DataFrame'>\n",
            "RangeIndex: 68 entries, 0 to 67\n",
            "Data columns (total 6 columns):\n",
            " #   Column               Non-Null Count  Dtype  \n",
            "---  ------               --------------  -----  \n",
            " 0   Unnamed: 0           68 non-null     object \n",
            " 1   2024-09-30 00:00:00  62 non-null     float64\n",
            " 2   2023-09-30 00:00:00  67 non-null     float64\n",
            " 3   2022-09-30 00:00:00  67 non-null     float64\n",
            " 4   2021-09-30 00:00:00  63 non-null     float64\n",
            " 5   2020-09-30 00:00:00  5 non-null      float64\n",
            "dtypes: float64(5), object(1)\n",
            "memory usage: 3.3+ KB\n",
            "None\n",
            "<class 'pandas.core.frame.DataFrame'>\n",
            "RangeIndex: 53 entries, 0 to 52\n",
            "Data columns (total 6 columns):\n",
            " #   Column               Non-Null Count  Dtype  \n",
            "---  ------               --------------  -----  \n",
            " 0   Unnamed: 0           53 non-null     object \n",
            " 1   2024-09-30 00:00:00  45 non-null     float64\n",
            " 2   2023-09-30 00:00:00  46 non-null     float64\n",
            " 3   2022-09-30 00:00:00  51 non-null     float64\n",
            " 4   2021-09-30 00:00:00  53 non-null     int64  \n",
            " 5   2020-09-30 00:00:00  8 non-null      float64\n",
            "dtypes: float64(4), int64(1), object(1)\n",
            "memory usage: 2.6+ KB\n",
            "None\n"
          ]
        }
      ]
    },
    {
      "cell_type": "markdown",
      "source": [
        "### Key Observations from:\n",
        "- Column Naming Issues: The first column (Unnamed: 0) should be renamed to \"Metric\" for better readability.\n",
        "- Date Formatting: The column names are datetime objects. They should be formatted as years (e.g., 2024, 2023, etc.).\n",
        "\n",
        "Missing Values:\n",
        "- The 2020 column has very few non-null values across all sheets. It might not be useful and could be removed.\n",
        "Other columns (e.g., 2024-09-30 00:00:00) have some missing values."
      ],
      "metadata": {
        "id": "ncxHwJKJWKFP"
      }
    },
    {
      "cell_type": "markdown",
      "source": [
        "## Data Cleaning"
      ],
      "metadata": {
        "id": "m_UKoCr3WmoX"
      }
    },
    {
      "cell_type": "code",
      "source": [
        "# Rename first column if it exists\n",
        "for df in [income_df, balance_df, cash_flow_df]:\n",
        "    if df.columns[0].startswith('Unnamed'):  # Ensures we only rename if it's unnamed\n",
        "        df.rename(columns={df.columns[0]: 'Metric'}, inplace=True)\n",
        "\n",
        "# Convert datetime columns to year format\n",
        "for df in [income_df, balance_df, cash_flow_df]:\n",
        "    df.columns = [str(pd.to_datetime(col).year) if '00:00:00' in str(col) else col for col in df.columns]\n",
        "\n",
        "# Drop the 2020 column if it has too many missing values\n",
        "for df in [income_df, balance_df, cash_flow_df]:\n",
        "    if '2020' in df.columns and df['2020'].count() < len(df) * 0.2:  # Less than 20% filled\n",
        "        df.drop(columns=['2020'], inplace=True)\n",
        "\n",
        "# Check the updated column names\n",
        "print(income_df.head())\n",
        "print(balance_df.head())\n",
        "print(cash_flow_df.head())"
      ],
      "metadata": {
        "colab": {
          "base_uri": "https://localhost:8080/"
        },
        "id": "Dc2d5_d5Wh9J",
        "outputId": "31a89b55-f192-40dc-d47b-027a8aba97d0"
      },
      "execution_count": 85,
      "outputs": [
        {
          "output_type": "stream",
          "name": "stdout",
          "text": [
            "                                              Metric          2024  \\\n",
            "0                        Tax Effect Of Unusual Items  0.000000e+00   \n",
            "1                                 Tax Rate For Calcs  2.410000e-01   \n",
            "2                                  Normalized EBITDA  1.346610e+11   \n",
            "3  Net Income From Continuing Operation Net Minor...  9.373600e+10   \n",
            "4                            Reconciled Depreciation  1.144500e+10   \n",
            "\n",
            "           2023          2022          2021  \n",
            "0  0.000000e+00  0.000000e+00  0.000000e+00  \n",
            "1  1.470000e-01  1.620000e-01  1.330000e-01  \n",
            "2  1.258200e+11  1.305410e+11  1.231360e+11  \n",
            "3  9.699500e+10  9.980300e+10  9.468000e+10  \n",
            "4  1.151900e+10  1.110400e+10  1.128400e+10  \n",
            "                   Metric          2024          2023          2022  \\\n",
            "0  Treasury Shares Number           NaN  0.000000e+00           NaN   \n",
            "1  Ordinary Shares Number  1.511679e+10  1.555006e+10  1.594342e+10   \n",
            "2            Share Issued  1.511679e+10  1.555006e+10  1.594342e+10   \n",
            "3                Net Debt  7.668600e+10  8.112300e+10  9.642300e+10   \n",
            "4              Total Debt  1.066290e+11  1.110880e+11  1.324800e+11   \n",
            "\n",
            "           2021  \n",
            "0           NaN  \n",
            "1  1.642679e+10  \n",
            "2  1.642679e+10  \n",
            "3  8.977900e+10  \n",
            "4  1.365220e+11  \n",
            "                        Metric          2024          2023          2022  \\\n",
            "0               Free Cash Flow  1.088070e+11  9.958400e+10  1.114430e+11   \n",
            "1  Repurchase Of Capital Stock -9.494900e+10 -7.755000e+10 -8.940200e+10   \n",
            "2            Repayment Of Debt -9.958000e+09 -1.115100e+10 -9.543000e+09   \n",
            "3             Issuance Of Debt  0.000000e+00  5.228000e+09  5.465000e+09   \n",
            "4    Issuance Of Capital Stock           NaN           NaN           NaN   \n",
            "\n",
            "          2021  \n",
            "0  92953000000  \n",
            "1 -85971000000  \n",
            "2  -8750000000  \n",
            "3  20393000000  \n",
            "4   1105000000  \n"
          ]
        }
      ]
    },
    {
      "cell_type": "code",
      "source": [
        "print(income_df.info())\n",
        "print(balance_df.info())\n",
        "print(cash_flow_df.info())"
      ],
      "metadata": {
        "colab": {
          "base_uri": "https://localhost:8080/"
        },
        "id": "OLf2LCx7jITy",
        "outputId": "4c031a7d-91a8-45b8-e1da-c532c3f24f8d"
      },
      "execution_count": 86,
      "outputs": [
        {
          "output_type": "stream",
          "name": "stdout",
          "text": [
            "<class 'pandas.core.frame.DataFrame'>\n",
            "RangeIndex: 39 entries, 0 to 38\n",
            "Data columns (total 5 columns):\n",
            " #   Column  Non-Null Count  Dtype  \n",
            "---  ------  --------------  -----  \n",
            " 0   Metric  39 non-null     object \n",
            " 1   2024    33 non-null     float64\n",
            " 2   2023    39 non-null     float64\n",
            " 3   2022    39 non-null     float64\n",
            " 4   2021    39 non-null     float64\n",
            "dtypes: float64(4), object(1)\n",
            "memory usage: 1.7+ KB\n",
            "None\n",
            "<class 'pandas.core.frame.DataFrame'>\n",
            "RangeIndex: 68 entries, 0 to 67\n",
            "Data columns (total 5 columns):\n",
            " #   Column  Non-Null Count  Dtype  \n",
            "---  ------  --------------  -----  \n",
            " 0   Metric  68 non-null     object \n",
            " 1   2024    62 non-null     float64\n",
            " 2   2023    67 non-null     float64\n",
            " 3   2022    67 non-null     float64\n",
            " 4   2021    63 non-null     float64\n",
            "dtypes: float64(4), object(1)\n",
            "memory usage: 2.8+ KB\n",
            "None\n",
            "<class 'pandas.core.frame.DataFrame'>\n",
            "RangeIndex: 53 entries, 0 to 52\n",
            "Data columns (total 5 columns):\n",
            " #   Column  Non-Null Count  Dtype  \n",
            "---  ------  --------------  -----  \n",
            " 0   Metric  53 non-null     object \n",
            " 1   2024    45 non-null     float64\n",
            " 2   2023    46 non-null     float64\n",
            " 3   2022    51 non-null     float64\n",
            " 4   2021    53 non-null     int64  \n",
            "dtypes: float64(3), int64(1), object(1)\n",
            "memory usage: 2.2+ KB\n",
            "None\n"
          ]
        }
      ]
    },
    {
      "cell_type": "code",
      "source": [
        "# Display rows with missing values for each sheet\n",
        "print(\"Rows with missing values in Income Statement:\")\n",
        "print(income_df[income_df.isnull().any(axis=1)])\n",
        "\n",
        "print(\"\\nRows with missing values in Balance Sheet:\")\n",
        "print(balance_df[balance_df.isnull().any(axis=1)])\n",
        "\n",
        "print(\"\\nRows with missing values in Cash Flow:\")\n",
        "print(cash_flow_df[cash_flow_df.isnull().any(axis=1)])"
      ],
      "metadata": {
        "colab": {
          "base_uri": "https://localhost:8080/"
        },
        "id": "8poRYP96YP5D",
        "outputId": "cbef16b7-8480-4f9d-daf9-47663a8437e3"
      },
      "execution_count": 87,
      "outputs": [
        {
          "output_type": "stream",
          "name": "stdout",
          "text": [
            "Rows with missing values in Income Statement:\n",
            "                                       Metric  2024          2023  \\\n",
            "8                         Net Interest Income   NaN -1.830000e+08   \n",
            "9                            Interest Expense   NaN  3.933000e+09   \n",
            "10                            Interest Income   NaN  3.750000e+09   \n",
            "28  Net Non Operating Interest Income Expense   NaN -1.830000e+08   \n",
            "29             Interest Expense Non Operating   NaN  3.933000e+09   \n",
            "30              Interest Income Non Operating   NaN  3.750000e+09   \n",
            "\n",
            "            2022          2021  \n",
            "8  -1.060000e+08  1.980000e+08  \n",
            "9   2.931000e+09  2.645000e+09  \n",
            "10  2.825000e+09  2.843000e+09  \n",
            "28 -1.060000e+08  1.980000e+08  \n",
            "29  2.931000e+09  2.645000e+09  \n",
            "30  2.825000e+09  2.843000e+09  \n",
            "\n",
            "Rows with missing values in Balance Sheet:\n",
            "                                Metric          2024          2023  \\\n",
            "0               Treasury Shares Number           NaN  0.000000e+00   \n",
            "9            Capital Lease Obligations           NaN  1.284200e+10   \n",
            "24  Long Term Capital Lease Obligation           NaN  1.126700e+10   \n",
            "31    Current Capital Lease Obligation           NaN  1.575000e+09   \n",
            "37                   Total Tax Payable  2.660100e+10  8.819000e+09   \n",
            "38                  Income Tax Payable  2.660100e+10  8.819000e+09   \n",
            "43         Non Current Deferred Assets  1.949900e+10  1.785200e+10   \n",
            "44   Non Current Deferred Taxes Assets  1.949900e+10  1.785200e+10   \n",
            "46                   Other Investments           NaN           NaN   \n",
            "53                    Other Properties           NaN  1.066100e+10   \n",
            "\n",
            "            2022          2021  \n",
            "0            NaN           NaN  \n",
            "9   1.241100e+10  1.180300e+10  \n",
            "24  1.074800e+10  1.027500e+10  \n",
            "31  1.663000e+09  1.528000e+09  \n",
            "37  6.552000e+09           NaN  \n",
            "38  6.552000e+09           NaN  \n",
            "43  1.537500e+10           NaN  \n",
            "44  1.537500e+10           NaN  \n",
            "46  1.208050e+11  1.278770e+11  \n",
            "53  1.041700e+10  1.008700e+10  \n",
            "\n",
            "Rows with missing values in Cash Flow:\n",
            "                             Metric  2024          2023          2022  \\\n",
            "4         Issuance Of Capital Stock   NaN           NaN           NaN   \n",
            "6   Interest Paid Supplemental Data   NaN  3.803000e+09  2.865000e+09   \n",
            "18            Common Stock Issuance   NaN           NaN           NaN   \n",
            "30   Net Business Purchase And Sale   NaN           NaN -3.060000e+08   \n",
            "31             Purchase Of Business   NaN           NaN -3.060000e+08   \n",
            "37  Change In Other Working Capital   NaN           NaN  4.780000e+08   \n",
            "48                     Deferred Tax   NaN           NaN  8.950000e+08   \n",
            "49              Deferred Income Tax   NaN           NaN  8.950000e+08   \n",
            "\n",
            "          2021  \n",
            "4   1105000000  \n",
            "6   2687000000  \n",
            "18  1105000000  \n",
            "30   -33000000  \n",
            "31   -33000000  \n",
            "37  1676000000  \n",
            "48 -4774000000  \n",
            "49 -4774000000  \n"
          ]
        }
      ]
    },
    {
      "cell_type": "markdown",
      "source": [
        "### Handling Missing Values in Financial Statements"
      ],
      "metadata": {
        "id": "P_JMScqtZye0"
      }
    },
    {
      "cell_type": "markdown",
      "source": [
        "#### 1. Income Statement\n",
        "\n",
        "- The missing values in 2024 exist while past years have data.\n",
        "- To maintain consistency, I will use forward fill (ffill) for missing values in 2024, assuming continuity.\n",
        "- If a forward fill is not applicable, I will use mean imputation based on previous years."
      ],
      "metadata": {
        "id": "1Rb8g6UKZ5Ad"
      }
    },
    {
      "cell_type": "code",
      "source": [
        "income_df['2024'] = income_df['2024'].ffill()"
      ],
      "metadata": {
        "id": "a7rt73xKaBkN"
      },
      "execution_count": 89,
      "outputs": []
    },
    {
      "cell_type": "code",
      "source": [
        "income_df.info()"
      ],
      "metadata": {
        "colab": {
          "base_uri": "https://localhost:8080/"
        },
        "id": "JsbraxuUkaqv",
        "outputId": "ebb92c14-96d8-49b0-dcd1-94709383ebd0"
      },
      "execution_count": 90,
      "outputs": [
        {
          "output_type": "stream",
          "name": "stdout",
          "text": [
            "<class 'pandas.core.frame.DataFrame'>\n",
            "RangeIndex: 39 entries, 0 to 38\n",
            "Data columns (total 5 columns):\n",
            " #   Column  Non-Null Count  Dtype  \n",
            "---  ------  --------------  -----  \n",
            " 0   Metric  39 non-null     object \n",
            " 1   2024    39 non-null     float64\n",
            " 2   2023    39 non-null     float64\n",
            " 3   2022    39 non-null     float64\n",
            " 4   2021    39 non-null     float64\n",
            "dtypes: float64(4), object(1)\n",
            "memory usage: 1.7+ KB\n"
          ]
        }
      ]
    },
    {
      "cell_type": "markdown",
      "source": [
        "#### 2. Balance Sheet\n",
        "\n",
        "- Some columns (e.g., Treasury Shares Number, Other Investments) have missing values across multiple years. These will be dropped if irrelevant.\n",
        "- Missing values for Capital Lease Obligations & Tax Payables (2024) will be forward filled from 2023.\n",
        "- Non-Current Deferred Assets & Taxes are missing in 2021 but available in later years. These will be backward filled to ensure continuity."
      ],
      "metadata": {
        "id": "sUw0PyA8a42R"
      }
    },
    {
      "cell_type": "code",
      "source": [
        "print(balance_df.columns)"
      ],
      "metadata": {
        "colab": {
          "base_uri": "https://localhost:8080/"
        },
        "id": "5zQrStvolNN_",
        "outputId": "1dadc659-ff7e-4eab-873b-4c606e44108e"
      },
      "execution_count": 96,
      "outputs": [
        {
          "output_type": "stream",
          "name": "stdout",
          "text": [
            "Index(['Metric', '2024', '2023', '2022', '2021'], dtype='object')\n"
          ]
        }
      ]
    },
    {
      "cell_type": "code",
      "source": [
        "print(balance_df['Metric'].unique())"
      ],
      "metadata": {
        "colab": {
          "base_uri": "https://localhost:8080/"
        },
        "id": "nV3RN6BIlbK_",
        "outputId": "fce1334b-bc86-45ff-fcaf-a405a1a1a517"
      },
      "execution_count": 97,
      "outputs": [
        {
          "output_type": "stream",
          "name": "stdout",
          "text": [
            "['Treasury Shares Number' 'Ordinary Shares Number' 'Share Issued'\n",
            " 'Net Debt' 'Total Debt' 'Tangible Book Value' 'Invested Capital'\n",
            " 'Working Capital' 'Net Tangible Assets' 'Capital Lease Obligations'\n",
            " 'Common Stock Equity' 'Total Capitalization'\n",
            " 'Total Equity Gross Minority Interest' 'Stockholders Equity'\n",
            " 'Gains Losses Not Affecting Retained Earnings' 'Other Equity Adjustments'\n",
            " 'Retained Earnings' 'Capital Stock' 'Common Stock'\n",
            " 'Total Liabilities Net Minority Interest'\n",
            " 'Total Non Current Liabilities Net Minority Interest'\n",
            " 'Other Non Current Liabilities' 'Tradeand Other Payables Non Current'\n",
            " 'Long Term Debt And Capital Lease Obligation'\n",
            " 'Long Term Capital Lease Obligation' 'Long Term Debt'\n",
            " 'Current Liabilities' 'Other Current Liabilities'\n",
            " 'Current Deferred Liabilities' 'Current Deferred Revenue'\n",
            " 'Current Debt And Capital Lease Obligation'\n",
            " 'Current Capital Lease Obligation' 'Current Debt'\n",
            " 'Other Current Borrowings' 'Commercial Paper'\n",
            " 'Payables And Accrued Expenses' 'Payables' 'Total Tax Payable'\n",
            " 'Income Tax Payable' 'Accounts Payable' 'Total Assets'\n",
            " 'Total Non Current Assets' 'Other Non Current Assets'\n",
            " 'Non Current Deferred Assets' 'Non Current Deferred Taxes Assets'\n",
            " 'Investments And Advances' 'Other Investments'\n",
            " 'Investmentin Financial Assets' 'Available For Sale Securities' 'Net PPE'\n",
            " 'Accumulated Depreciation' 'Gross PPE' 'Leases' 'Other Properties'\n",
            " 'Machinery Furniture Equipment' 'Land And Improvements' 'Properties'\n",
            " 'Current Assets' 'Other Current Assets' 'Inventory' 'Receivables'\n",
            " 'Other Receivables' 'Accounts Receivable'\n",
            " 'Cash Cash Equivalents And Short Term Investments'\n",
            " 'Other Short Term Investments' 'Cash And Cash Equivalents'\n",
            " 'Cash Equivalents' 'Cash Financial']\n"
          ]
        }
      ]
    },
    {
      "cell_type": "code",
      "source": [
        "# Define rows to forward-fill for 2024\n",
        "rows_to_ffill = ['Capital Lease Obligations', 'Total Tax Payable', 'Income Tax Payable']\n",
        "\n",
        "for row in rows_to_ffill:\n",
        "    balance_df.loc[balance_df['Metric'] == row, '2024'] = (\n",
        "        balance_df.loc[balance_df['Metric'] == row, '2024'].ffill(axis=0)\n",
        "    )"
      ],
      "metadata": {
        "id": "QZG60Xh4k_rc"
      },
      "execution_count": 98,
      "outputs": []
    },
    {
      "cell_type": "code",
      "source": [
        "balance_df = balance_df[~balance_df['Metric'].isin(['Treasury Shares Number'])]"
      ],
      "metadata": {
        "id": "QkEtjHbMmgC7"
      },
      "execution_count": 99,
      "outputs": []
    },
    {
      "cell_type": "code",
      "source": [
        "balance_df.info()"
      ],
      "metadata": {
        "colab": {
          "base_uri": "https://localhost:8080/"
        },
        "id": "ETFRDQN4mx3V",
        "outputId": "ea62ccab-a0bd-4a8b-8d61-cdfeca9b4e09"
      },
      "execution_count": 100,
      "outputs": [
        {
          "output_type": "stream",
          "name": "stdout",
          "text": [
            "<class 'pandas.core.frame.DataFrame'>\n",
            "Index: 67 entries, 1 to 67\n",
            "Data columns (total 5 columns):\n",
            " #   Column  Non-Null Count  Dtype  \n",
            "---  ------  --------------  -----  \n",
            " 0   Metric  67 non-null     object \n",
            " 1   2024    62 non-null     float64\n",
            " 2   2023    66 non-null     float64\n",
            " 3   2022    67 non-null     float64\n",
            " 4   2021    63 non-null     float64\n",
            "dtypes: float64(4), object(1)\n",
            "memory usage: 3.1+ KB\n"
          ]
        }
      ]
    },
    {
      "cell_type": "code",
      "source": [
        "missing_rows = balance_df[balance_df.isnull().any(axis=1)]\n",
        "print(missing_rows)"
      ],
      "metadata": {
        "colab": {
          "base_uri": "https://localhost:8080/"
        },
        "id": "qkOPI73fnNsX",
        "outputId": "9424305e-63d2-4ba6-a9f2-1a0bd0a12564"
      },
      "execution_count": 101,
      "outputs": [
        {
          "output_type": "stream",
          "name": "stdout",
          "text": [
            "                                Metric          2024          2023  \\\n",
            "9            Capital Lease Obligations           NaN  1.284200e+10   \n",
            "24  Long Term Capital Lease Obligation           NaN  1.126700e+10   \n",
            "31    Current Capital Lease Obligation           NaN  1.575000e+09   \n",
            "37                   Total Tax Payable  2.660100e+10  8.819000e+09   \n",
            "38                  Income Tax Payable  2.660100e+10  8.819000e+09   \n",
            "43         Non Current Deferred Assets  1.949900e+10  1.785200e+10   \n",
            "44   Non Current Deferred Taxes Assets  1.949900e+10  1.785200e+10   \n",
            "46                   Other Investments           NaN           NaN   \n",
            "53                    Other Properties           NaN  1.066100e+10   \n",
            "\n",
            "            2022          2021  \n",
            "9   1.241100e+10  1.180300e+10  \n",
            "24  1.074800e+10  1.027500e+10  \n",
            "31  1.663000e+09  1.528000e+09  \n",
            "37  6.552000e+09           NaN  \n",
            "38  6.552000e+09           NaN  \n",
            "43  1.537500e+10           NaN  \n",
            "44  1.537500e+10           NaN  \n",
            "46  1.208050e+11  1.278770e+11  \n",
            "53  1.041700e+10  1.008700e+10  \n"
          ]
        }
      ]
    },
    {
      "cell_type": "code",
      "source": [
        "# Forward Fill for missing 2024 values using 2023\n",
        "columns_to_ffill = ['Capital Lease Obligations', 'Long Term Capital Lease Obligation',\n",
        "                    'Current Capital Lease Obligation', 'Total Tax Payable', 'Income Tax Payable']\n",
        "\n",
        "balance_df.loc[balance_df['Metric'].isin(columns_to_ffill), '2024'] = (\n",
        "    balance_df.loc[balance_df['Metric'].isin(columns_to_ffill), '2024']\n",
        "    .fillna(balance_df['2023'])\n",
        ")\n",
        "\n",
        "# Backward Fill for Non Current Deferred Assets & Taxes\n",
        "columns_to_bfill = ['Non Current Deferred Assets', 'Non Current Deferred Taxes Assets']\n",
        "balance_df.loc[balance_df['Metric'].isin(columns_to_bfill), '2021'] = (\n",
        "    balance_df.loc[balance_df['Metric'].isin(columns_to_bfill), '2021']\n",
        "    .fillna(balance_df['2022'])\n",
        ")\n",
        "\n",
        "# Drop \"Other Investments\" if it's mostly missing\n",
        "balance_df = balance_df[balance_df['Metric'] != 'Other Investments']\n",
        "\n",
        "# Print cleaned data\n",
        "print(balance_df.loc[balance_df.isnull().any(axis=1)])  # Check if any missing values remain"
      ],
      "metadata": {
        "colab": {
          "base_uri": "https://localhost:8080/"
        },
        "id": "aCwQBhiBn4Mu",
        "outputId": "2ee67726-5c0f-4cdc-e1b4-edb36be0313f"
      },
      "execution_count": 102,
      "outputs": [
        {
          "output_type": "stream",
          "name": "stdout",
          "text": [
            "                Metric          2024          2023          2022          2021\n",
            "37   Total Tax Payable  2.660100e+10  8.819000e+09  6.552000e+09           NaN\n",
            "38  Income Tax Payable  2.660100e+10  8.819000e+09  6.552000e+09           NaN\n",
            "53    Other Properties           NaN  1.066100e+10  1.041700e+10  1.008700e+10\n"
          ]
        }
      ]
    },
    {
      "cell_type": "code",
      "source": [
        "# Backfill missing 2021 values for Tax Payables\n",
        "tax_columns = ['Total Tax Payable', 'Income Tax Payable']\n",
        "balance_df.loc[balance_df['Metric'].isin(tax_columns), '2021'] = (\n",
        "    balance_df.loc[balance_df['Metric'].isin(tax_columns), '2021']\n",
        "    .fillna(balance_df['2022'])\n",
        ")\n",
        "\n",
        "# Forward fill for Other Properties in 2024\n",
        "balance_df.loc[balance_df['Metric'] == 'Other Properties', '2024'] = (\n",
        "    balance_df.loc[balance_df['Metric'] == 'Other Properties', '2024']\n",
        "    .fillna(balance_df['2023'])\n",
        ")\n",
        "\n",
        "# Check if missing values remain\n",
        "print(balance_df.loc[balance_df.isnull().any(axis=1)])"
      ],
      "metadata": {
        "colab": {
          "base_uri": "https://localhost:8080/"
        },
        "id": "ydkrCjvxoFER",
        "outputId": "4f5f3b0c-b0fc-4de4-feaf-0a190f3e8fef"
      },
      "execution_count": 103,
      "outputs": [
        {
          "output_type": "stream",
          "name": "stdout",
          "text": [
            "Empty DataFrame\n",
            "Columns: [Metric, 2024, 2023, 2022, 2021]\n",
            "Index: []\n"
          ]
        }
      ]
    },
    {
      "cell_type": "code",
      "source": [
        "balance_df.info()"
      ],
      "metadata": {
        "colab": {
          "base_uri": "https://localhost:8080/"
        },
        "id": "gP4cWDWvoHiC",
        "outputId": "a39ad6a8-397e-4836-bed2-959bbadd8dd8"
      },
      "execution_count": 104,
      "outputs": [
        {
          "output_type": "stream",
          "name": "stdout",
          "text": [
            "<class 'pandas.core.frame.DataFrame'>\n",
            "Index: 66 entries, 1 to 67\n",
            "Data columns (total 5 columns):\n",
            " #   Column  Non-Null Count  Dtype  \n",
            "---  ------  --------------  -----  \n",
            " 0   Metric  66 non-null     object \n",
            " 1   2024    66 non-null     float64\n",
            " 2   2023    66 non-null     float64\n",
            " 3   2022    66 non-null     float64\n",
            " 4   2021    66 non-null     float64\n",
            "dtypes: float64(4), object(1)\n",
            "memory usage: 5.1+ KB\n"
          ]
        }
      ]
    },
    {
      "cell_type": "markdown",
      "source": [
        "#### 3. Cash Flow Statement\n",
        "\n",
        "- Some missing values (e.g., Stock Issuance, Business Purchases, Deferred Taxes) are highly variable and do not occur every year.\n",
        "- For these, I will fill missing values with 0, assuming no transaction happened.\n",
        "- For 2024-specific missing values, I will use forward fill from 2023 where trends exist."
      ],
      "metadata": {
        "id": "5G7eSvC1bNpf"
      }
    },
    {
      "cell_type": "code",
      "source": [
        "# Display rows with any missing values\n",
        "missing_values_df = cash_flow_df[cash_flow_df.isnull().any(axis=1)]\n",
        "print(missing_values_df)"
      ],
      "metadata": {
        "colab": {
          "base_uri": "https://localhost:8080/"
        },
        "id": "N4GXmX1IbUca",
        "outputId": "60ef5df3-6fd3-4845-9563-eca6583f29c8"
      },
      "execution_count": 106,
      "outputs": [
        {
          "output_type": "stream",
          "name": "stdout",
          "text": [
            "                             Metric  2024          2023          2022  \\\n",
            "4         Issuance Of Capital Stock   NaN           NaN           NaN   \n",
            "6   Interest Paid Supplemental Data   NaN  3.803000e+09  2.865000e+09   \n",
            "18            Common Stock Issuance   NaN           NaN           NaN   \n",
            "30   Net Business Purchase And Sale   NaN           NaN -3.060000e+08   \n",
            "31             Purchase Of Business   NaN           NaN -3.060000e+08   \n",
            "37  Change In Other Working Capital   NaN           NaN  4.780000e+08   \n",
            "48                     Deferred Tax   NaN           NaN  8.950000e+08   \n",
            "49              Deferred Income Tax   NaN           NaN  8.950000e+08   \n",
            "\n",
            "          2021  \n",
            "4   1105000000  \n",
            "6   2687000000  \n",
            "18  1105000000  \n",
            "30   -33000000  \n",
            "31   -33000000  \n",
            "37  1676000000  \n",
            "48 -4774000000  \n",
            "49 -4774000000  \n"
          ]
        }
      ]
    },
    {
      "cell_type": "code",
      "source": [
        "# Fill missing values with 0 where transactions do not occur every year\n",
        "cash_flow_df.fillna(0, inplace=True)\n",
        "\n",
        "# Forward fill only for the 2024 column where trends exist\n",
        "cash_flow_df['2024'] = cash_flow_df['2024'].replace(0, np.nan).ffill()"
      ],
      "metadata": {
        "id": "dPred6fWcbCT"
      },
      "execution_count": 110,
      "outputs": []
    },
    {
      "cell_type": "code",
      "source": [
        "cash_flow_df.info()"
      ],
      "metadata": {
        "colab": {
          "base_uri": "https://localhost:8080/"
        },
        "id": "1vwCFMc8p2vf",
        "outputId": "59067c56-78fb-4f39-dad9-735c9a47cb2d"
      },
      "execution_count": 113,
      "outputs": [
        {
          "output_type": "stream",
          "name": "stdout",
          "text": [
            "<class 'pandas.core.frame.DataFrame'>\n",
            "RangeIndex: 53 entries, 0 to 52\n",
            "Data columns (total 5 columns):\n",
            " #   Column  Non-Null Count  Dtype  \n",
            "---  ------  --------------  -----  \n",
            " 0   Metric  53 non-null     object \n",
            " 1   2024    53 non-null     float64\n",
            " 2   2023    53 non-null     float64\n",
            " 3   2022    53 non-null     float64\n",
            " 4   2021    53 non-null     int64  \n",
            "dtypes: float64(3), int64(1), object(1)\n",
            "memory usage: 2.2+ KB\n"
          ]
        }
      ]
    },
    {
      "cell_type": "code",
      "source": [
        "#save cleaned data\n",
        "with pd.ExcelWriter(\"cleaned_financial_statements.xlsx\") as writer:\n",
        "    income_df.to_excel(writer, sheet_name=\"Income Statement\")\n",
        "    balance_df.to_excel(writer, sheet_name=\"Balance Sheet\")\n",
        "    cash_flow_df.to_excel(writer, sheet_name=\"Cash Flow\")"
      ],
      "metadata": {
        "id": "vxocYeREqR-I"
      },
      "execution_count": 114,
      "outputs": []
    },
    {
      "cell_type": "markdown",
      "source": [
        "## Financial Metrics & Ratios"
      ],
      "metadata": {
        "id": "7I9E1ZQMsZyx"
      }
    },
    {
      "cell_type": "markdown",
      "source": [
        "### a) Liquidity Ratios (Short-term financial health)\n",
        "These measure the company's ability to cover short-term liabilities.\n",
        "\n",
        "1.  Current Ratio = Current Assets / Current Liabilities\n",
        "- Interpretation: If the ratio is >1, the company can cover short-term debts."
      ],
      "metadata": {
        "id": "yU7rkcTQsvJT"
      }
    },
    {
      "cell_type": "code",
      "source": [
        "current_assets = balance_df.loc[balance_df['Metric'] == 'Current Assets', '2024'].values[0]\n",
        "current_liabilities = balance_df.loc[balance_df['Metric'] == 'Current Liabilities', '2024'].values[0]\n",
        "\n",
        "current_ratio = current_assets / current_liabilities\n",
        "print(f\"Current Ratio (2024): {current_ratio:.2f}\")"
      ],
      "metadata": {
        "colab": {
          "base_uri": "https://localhost:8080/"
        },
        "id": "PunViij8sjRD",
        "outputId": "cd035698-4165-4ae1-dab6-3d085541e62a"
      },
      "execution_count": 116,
      "outputs": [
        {
          "output_type": "stream",
          "name": "stdout",
          "text": [
            "Current Ratio (2024): 0.87\n"
          ]
        }
      ]
    },
    {
      "cell_type": "markdown",
      "source": [
        "#### 📉 Interpretation of 2024's Current Ratio (0.87)\n",
        "- A **current ratio below 1.0** (like **0.87**) suggests that the company **may struggle to meet short-term obligations** with its available assets.  \n",
        "- This could indicate **liquidity issues**, meaning the company might need **external financing** or better **cash flow management**.  \n",
        "- Investors and creditors might see this as a **red flag** unless the company has **strong cash flows or access to credit**.\n",
        "\n",
        "#### 🔍 Possible Reasons for a Low Current Ratio  \n",
        "1. **High Short-Term Liabilities** – The company may have taken on **more short-term debt** than it can currently cover.  \n",
        "2. **Low Cash Reserves** – Insufficient cash or liquid assets could make it harder to pay short-term obligations.  \n",
        "3. **Inventory or Accounts Receivable Issues** – If a large portion of current assets is tied up in inventory or pending receivables, liquidity could be constrained.  \n",
        "4. **Aggressive Growth Strategy** – The company may be **investing heavily** in expansion, reducing available liquid assets."
      ],
      "metadata": {
        "id": "SrZoH3raZWzC"
      }
    },
    {
      "cell_type": "markdown",
      "source": [
        "#### 2. Quick Ratio\n",
        "\n",
        "The **quick ratio** (or **acid-test ratio**) measures a company's ability to meet its **short-term liabilities** using its **most liquid assets**—excluding inventory. It is calculated as:\n",
        "\n",
        "\\[\n",
        "\\text{Quick Ratio} = \\frac{\\text{Current Assets} - \\text{Inventory}}{\\text{Current Liabilities}}\n",
        "\\]\n"
      ],
      "metadata": {
        "id": "D3FdTCV5tQAd"
      }
    },
    {
      "cell_type": "code",
      "source": [
        "inventory = balance_df.loc[balance_df['Metric'] == 'Inventory', '2024'].values[0]\n",
        "\n",
        "quick_ratio = (current_assets - inventory) / current_liabilities\n",
        "print(f\"Quick Ratio (2024): {quick_ratio:.2f}\")"
      ],
      "metadata": {
        "colab": {
          "base_uri": "https://localhost:8080/"
        },
        "id": "w93Q2VAns6Xb",
        "outputId": "ecda0a3f-0223-4251-b743-2ee89840d482"
      },
      "execution_count": 117,
      "outputs": [
        {
          "output_type": "stream",
          "name": "stdout",
          "text": [
            "Quick Ratio (2024): 0.83\n"
          ]
        }
      ]
    },
    {
      "cell_type": "markdown",
      "source": [
        "#### 📉 Interpretation of 2024's Quick Ratio (0.83)  \n",
        "- A **quick ratio of 0.83** means that for every **\\$1 of short-term liabilities**, the company has **$0.83 of liquid assets** to cover them.  \n",
        "- Since the **ratio is below 1.0**, it suggests that the company may face **liquidity challenges** if it needs to pay off its obligations quickly.  \n",
        "- The company's reliance on **inventory** to meet short-term liabilities could be risky, especially if inventory turnover is slow.\n",
        "\n",
        "#### 🔍 Possible Reasons for a Low Quick Ratio\n",
        "1. **Low Cash & Receivables** – The company may not have enough **cash or accounts receivable** available for immediate use.  \n",
        "2. **High Inventory Levels** – If too much capital is tied up in **unsold inventory**, it reduces the quick ratio.  \n",
        "3. **Short-Term Debt Obligations** – A high amount of **short-term liabilities** could be outpacing liquid asset growth.  \n",
        "4. **Delayed Receivables Collection** – If customers take too long to pay, it affects liquidity.  \n",
        "\n",
        "#### 📌 Strategies to Improve the Quick Ratio\n",
        "✅ **Increase Cash Reserves** – Improve **cash flow management** to maintain sufficient liquidity.  \n",
        "✅ **Reduce Short-Term Liabilities** – Consider restructuring debt or delaying non-essential expenses.  \n",
        "✅ **Speed Up Receivables Collection** – Implement **stricter credit policies** and encourage early payments.  \n",
        "✅ **Optimize Inventory Management** – Reduce **excess stock** and improve turnover rates."
      ],
      "metadata": {
        "id": "U34Eb6lNarKn"
      }
    },
    {
      "cell_type": "markdown",
      "source": [
        "### b) Profitability Ratios (Earnings Performance)\n",
        "These evaluate how well a company generates profit.\n",
        "\n",
        "1️⃣ Gross Profit Margin = (Revenue - Cost of Goods Sold) / Revenue\n",
        "\n",
        "- The **gross profit margin** measures how efficiently a company generates profit from its core operations after deducting the **cost of goods sold (COGS)**."
      ],
      "metadata": {
        "id": "tB8wSWSktjQW"
      }
    },
    {
      "cell_type": "code",
      "source": [
        "revenue = income_df.loc[income_df['Metric'] == 'Total Revenue', '2024'].values[0]\n",
        "cogs = income_df.loc[income_df['Metric'] == 'Cost Of Revenue', '2024'].values[0]\n",
        "\n",
        "gross_profit_margin = (revenue - cogs) / revenue\n",
        "print(f\"Gross Profit Margin (2024): {gross_profit_margin:.2%}\")"
      ],
      "metadata": {
        "colab": {
          "base_uri": "https://localhost:8080/"
        },
        "id": "QSfor3pXtaZH",
        "outputId": "e972a443-5900-4043-dca9-79cf0c1ce2f4"
      },
      "execution_count": 120,
      "outputs": [
        {
          "output_type": "stream",
          "name": "stdout",
          "text": [
            "Gross Profit Margin (2024): 46.21%\n"
          ]
        }
      ]
    },
    {
      "cell_type": "markdown",
      "source": [
        "#### 📈 Interpretation of 2024's Gross Profit Margin (46.21%)  \n",
        "- A **gross profit margin of 46.21%** means that **for every \\$1 of revenue, the company retains $0.46 as gross profit** after covering direct production costs.  \n",
        "- This indicates a **healthy profitability level**, suggesting **strong pricing power** and **cost management**.  \n",
        "- A margin **above 40%** is generally considered strong, but this depends on industry standards.\n",
        "\n",
        "#### 🔍 Factors Affecting Gross Profit Margin  \n",
        "1. **Efficient Cost Control** – Lower production costs or better supplier negotiations can improve margins.  \n",
        "2. **Pricing Strategy** – Higher pricing power increases margins, while discounts or promotions can reduce them.  \n",
        "3. **Sales Mix** – Selling more high-margin products improves overall gross profit margin.  \n",
        "4. **Raw Material Costs** – Rising material costs can **shrink margins** if prices aren't adjusted accordingly.  \n",
        "5. **Economies of Scale** – Larger production volumes can reduce unit costs, improving profitability.  \n",
        "\n",
        "####📌 How to Improve Gross Profit Margin  \n",
        "✅ **Optimize Production Costs** – Improve **supply chain efficiency** and negotiate better supplier deals.  \n",
        "✅ **Increase Pricing Strategically** – Adjust product pricing based on **customer demand and competition**.  \n",
        "✅ **Focus on High-Margin Products** – Shift sales efforts toward more profitable product lines.  \n",
        "✅ **Reduce Waste & Inefficiencies** – Streamline **manufacturing processes** to cut unnecessary costs.  \n",
        "\n",
        "**💡 Key Takeaway**  \n",
        "A **46.21% gross profit margin** is a **strong indicator of operational efficiency**, but maintaining or increasing it requires **cost management, pricing strategies, and continuous process improvements**."
      ],
      "metadata": {
        "id": "2X5NE4VybxGV"
      }
    },
    {
      "cell_type": "markdown",
      "source": [
        "2️⃣ Net Profit Margin = Net Income / Revenue\n",
        "\n",
        " - The **net profit margin** measures how much of a company’s total revenue translates into **actual profit** after deducting **all expenses**, including operating costs, taxes, interest, and other financial obligations.\n"
      ],
      "metadata": {
        "id": "kyq2UJequSRp"
      }
    },
    {
      "cell_type": "code",
      "source": [
        "net_income = income_df.loc[income_df['Metric'] == 'Net Income', '2024'].values[0]\n",
        "\n",
        "net_profit_margin = net_income / revenue\n",
        "print(f\"Net Profit Margin (2024): {net_profit_margin:.2%}\")"
      ],
      "metadata": {
        "colab": {
          "base_uri": "https://localhost:8080/"
        },
        "id": "jp4d2P6Ut9CT",
        "outputId": "53ab9e2b-ed75-400e-eb6b-c4fc95ac2224"
      },
      "execution_count": 121,
      "outputs": [
        {
          "output_type": "stream",
          "name": "stdout",
          "text": [
            "Net Profit Margin (2024): 23.97%\n"
          ]
        }
      ]
    },
    {
      "cell_type": "markdown",
      "source": [
        "#### 📈 Interpretation of 2024's Net Profit Margin (23.97%)  \n",
        "- A **net profit margin of 23.97%** means that **for every $1 of revenue, the company retains $0.24 as net profit** after covering all costs.  \n",
        "- This reflects **strong overall profitability**, suggesting **efficient cost management and solid revenue generation**.  \n",
        "- A margin **above 20%** is considered excellent for many industries, especially in **technology and high-margin sectors**.\n",
        "\n",
        "#### 🔍 Factors Affecting Net Profit Margin\n",
        "1. **Revenue Growth** – Higher sales volumes can boost net profit margins.  \n",
        "2. **Cost Efficiency** – Managing operating expenses and reducing unnecessary costs helps improve margins.  \n",
        "3. **Tax Strategies** – Effective tax planning can minimize tax liabilities and improve the bottom line.  \n",
        "4. **Debt Management** – Lower interest expenses result in higher net profitability.  \n",
        "5. **Operational Efficiency** – Automation, better resource allocation, and cost-cutting measures increase net profit margins.  \n",
        "\n",
        "#### 📌 How to Improve Net Profit Margin  \n",
        "✅ **Reduce Operating Costs** – Optimize **logistics, labor, and administrative expenses**.  \n",
        "✅ **Increase Sales Revenue** – Expand **market reach**, enhance **customer retention**, and improve **pricing strategies**.  \n",
        "✅ **Lower Debt Obligations** – Reduce interest expenses by refinancing or paying off high-interest debts.  \n",
        "✅ **Improve Tax Efficiency** – Leverage **tax incentives and deductions** where possible.  \n",
        "✅ **Enhance Productivity** – Invest in **technology\n"
      ],
      "metadata": {
        "id": "xFHdzOb7duCk"
      }
    },
    {
      "cell_type": "markdown",
      "source": [
        "### c) Leverage Ratios (Debt vs Equity)\n",
        "These show how much debt a company is using.\n",
        "\n",
        "1️⃣ Debt-to-Equity Ratio = Total Liabilities / Shareholders’ Equity\n",
        "\n",
        "- The **Debt-to-Equity Ratio (D/E)** measures a company's **financial leverage** by comparing its total debt to shareholders' equity."
      ],
      "metadata": {
        "id": "v4z0pul-uVmw"
      }
    },
    {
      "cell_type": "code",
      "source": [
        "total_liabilities = balance_df.loc[balance_df['Metric'] == 'Total Liabilities Net Minority Interest', '2024'].values[0]\n",
        "equity = balance_df.loc[balance_df['Metric'] == 'Stockholders Equity', '2024'].values[0]\n",
        "\n",
        "debt_equity_ratio = total_liabilities / equity\n",
        "print(f\"Debt-to-Equity Ratio (2024): {debt_equity_ratio:.2f}\")"
      ],
      "metadata": {
        "colab": {
          "base_uri": "https://localhost:8080/"
        },
        "id": "ihf0-JoquUkQ",
        "outputId": "cc7ae664-5b41-420d-b714-f0bdc41d7d9d"
      },
      "execution_count": 122,
      "outputs": [
        {
          "output_type": "stream",
          "name": "stdout",
          "text": [
            "Debt-to-Equity Ratio (2024): 5.41\n"
          ]
        }
      ]
    },
    {
      "cell_type": "markdown",
      "source": [
        "#### 📈 Interpretation of 2024's Debt-to-Equity Ratio (5.41)  \n",
        "- A **D/E ratio of 5.41** means that for **every \\$1 of equity, the company has $5.41 in debt**.  \n",
        "- This **high leverage** indicates that the company **relies heavily on borrowed funds** rather than equity financing.  \n",
        "- **Industries like banking and capital-intensive businesses (e.g., telecom, energy) often have high D/E ratios**, while tech and service-based industries typically have lower values.  \n",
        "\n",
        "#### 🔍 Implications of a High D/E Ratio (5.41)  \n",
        "**🚩 Risks:**  \n",
        "1. **High Financial Risk** – A company with excessive debt may struggle to **meet interest payments and principal obligations**, especially in economic downturns.  \n",
        "2. **Investor Concern** – High leverage may **discourage equity investors** due to **increased financial instability**.  \n",
        "3. **Lower Creditworthiness** – Lenders may view the company as **high-risk**, leading to **higher borrowing costs**.  \n",
        "\n",
        "**✅ Possible Advantages:**  \n",
        "1. **Potential for High Returns** – If the borrowed funds are used effectively for **expansion, acquisitions, or high-ROI projects**, they can boost profits.  \n",
        "2. **Tax Benefits** – Interest payments on debt are **tax-deductible**, which can reduce taxable income.  \n",
        "\n",
        "#### 📌 How to Improve the D/E Ratio?  \n",
        "✅ **Increase Equity Financing** – Raise capital through **retained earnings, issuing shares, or strategic partnerships**.  \n",
        "✅ **Reduce Debt Levels** – Prioritize **debt repayment** to lower financial risk.  \n",
        "✅ **Optimize Debt Usage** – Ensure borrowed funds are **invested in high-return projects** to justify leverage.  \n",
        "✅ **Improve Profitability** – Increase **revenue and net income** to strengthen the company’s **financial position**.  \n",
        "\n",
        "**💡 Key Takeaway**  \n",
        "A **D/E ratio of 5.41** suggests **high financial leverage**, which can be risky if not managed effectively. The company should focus on **balancing debt and equity financing**, ensuring that borrowed funds contribute to **growth and profitability** without increasing financial vulnerability.\n"
      ],
      "metadata": {
        "id": "cN6Ss_ijeWMq"
      }
    },
    {
      "cell_type": "markdown",
      "source": [
        "## 3. Cash Flow Analysis\n",
        "1️⃣ Operating Cash Flow Trend\n",
        "\n",
        "- Operating Cash Flow (**OCF**) measures the cash generated by a company’s **core business operations**. It indicates the company’s ability to generate cash to **cover expenses, reinvest, and service debt**.  "
      ],
      "metadata": {
        "id": "BFL3Zz_6uiX7"
      }
    },
    {
      "cell_type": "code",
      "source": [
        "cash_ops = cash_flow_df.loc[cash_flow_df['Metric'] == 'Operating Cash Flow']\n",
        "print(cash_ops)"
      ],
      "metadata": {
        "colab": {
          "base_uri": "https://localhost:8080/"
        },
        "id": "uFOtIe9wuco7",
        "outputId": "65d3b77b-f27a-4aee-e62a-89a6377ebc35"
      },
      "execution_count": 126,
      "outputs": [
        {
          "output_type": "stream",
          "name": "stdout",
          "text": [
            "                 Metric          2024          2023          2022  \\\n",
            "34  Operating Cash Flow  1.182540e+11  1.105430e+11  1.221510e+11   \n",
            "\n",
            "            2021  \n",
            "34  104038000000  \n"
          ]
        }
      ]
    },
    {
      "cell_type": "markdown",
      "source": [
        "#### 📈 Yearly Trend (2021 - 2024)  \n",
        "| Year  | Operating Cash Flow ($) |\n",
        "|--------|-------------------------|\n",
        "| **2021** | 104.04B |\n",
        "| **2022** | 122.15B |\n",
        "| **2023** | 110.54B |\n",
        "| **2024** | 118.25B |\n",
        "\n",
        "#### 📊 Insights from the Trend\n",
        "1. **Fluctuations in OCF:**  \n",
        "   - **2021 → 2022:** **+17.41% increase**, showing strong growth in operating cash flow.  \n",
        "   - **2022 → 2023:** **-9.52% decrease**, indicating a slight decline, possibly due to increased costs or lower revenues.  \n",
        "   - **2023 → 2024:** **+7.00% increase**, suggesting a recovery in cash flow.  \n",
        "\n",
        "2. **Overall Positive Growth:**  \n",
        "   - **Despite some fluctuations, the company has consistently maintained strong cash flow generation capabilities.**  \n",
        "\n",
        "3. **Slight Volatility in Recent Years:**  \n",
        "   - The dip in **2023** might indicate temporary challenges, such as **higher expenses, lower revenue, or changes in working capital**.  \n",
        "\n",
        "4. **Sustainability of OCF:**  \n",
        "   - **A steady increase in 2024** suggests the company is improving operational efficiency and cash generation.  \n",
        "   - **Monitoring future trends is crucial** to ensure long-term financial stability.  "
      ],
      "metadata": {
        "id": "YSflqVR8f8Gh"
      }
    },
    {
      "cell_type": "markdown",
      "source": [
        "2️⃣ Free Cash Flow (FCF) = Operating Cash Flow - Capital Expenditures\n",
        "\n",
        "- **Free Cash Flow (FCF)** represents the cash a company generates **after** accounting for capital expenditures (**CapEx**). It indicates how much cash is available for **dividends, debt repayment, reinvestment, or acquisitions**.  "
      ],
      "metadata": {
        "id": "pTfY9ICbvfsp"
      }
    },
    {
      "cell_type": "code",
      "source": [
        "capex = cash_flow_df.loc[cash_flow_df['Metric'] == 'Capital Expenditure', '2024'].values[0]\n",
        "operating_cash = cash_flow_df.loc[cash_flow_df['Metric'] == 'Operating Cash Flow', '2024'].values[0]\n",
        "\n",
        "free_cash_flow = operating_cash - capex\n",
        "print(f\"Free Cash Flow (2024): {free_cash_flow}\")"
      ],
      "metadata": {
        "colab": {
          "base_uri": "https://localhost:8080/"
        },
        "id": "npXUsAm5uxR5",
        "outputId": "3f39b43a-2fb7-4027-a857-1edec42af066"
      },
      "execution_count": 127,
      "outputs": [
        {
          "output_type": "stream",
          "name": "stdout",
          "text": [
            "Free Cash Flow (2024): 127701000000.0\n"
          ]
        }
      ]
    },
    {
      "cell_type": "markdown",
      "source": [
        "#### 📊 Free Cash Flow in 2024\n",
        "- **FCF (2024):** **$127.70 billion**  \n",
        "\n",
        "#### 📈 Key Insights  \n",
        "1. **Strong Cash Generation:**  \n",
        "   - The company generated a **substantial amount of free cash flow**, reflecting its ability to fund operations, invest in growth, and return value to shareholders.  \n",
        "\n",
        "2. **Operational Efficiency:**  \n",
        "   - A high FCF suggests **efficient cost management and profitability**, ensuring the company can **self-fund** investments **without excessive reliance on external financing**.  \n",
        "\n",
        "3. **Financial Flexibility:**  \n",
        "   - With **$127.70 billion in FCF**, the company has a **strong buffer** to cover expenses, manage debt, and pursue strategic opportunities.  \n",
        "\n",
        "4. **Comparison with Operating Cash Flow (OCF):**  \n",
        "   - Since FCF is derived from **OCF minus capital expenditures**, comparing the two helps understand how much cash is reinvested into the business.  \n",
        "   - If FCF is **close to OCF**, it suggests **low capital expenditures**, indicating a **mature and capital-efficient business model**.  "
      ],
      "metadata": {
        "id": "oV_1V3DXg2xo"
      }
    },
    {
      "cell_type": "markdown",
      "source": [
        "## 4. Visualization\n",
        "\n",
        "\n",
        "### 📊 Revenue & Net Income Trend"
      ],
      "metadata": {
        "id": "XxXGFtR3vjxQ"
      }
    },
    {
      "cell_type": "code",
      "source": [
        "import matplotlib.ticker as ticker\n",
        "\n",
        "plt.figure(figsize=(10, 5))\n",
        "\n",
        "# Plot revenue and net income\n",
        "plt.plot(years, revenues, marker='o', label='Total Revenue', color='blue')\n",
        "plt.plot(years, net_income, marker='s', linestyle='--', label='Net Income', color='orange')\n",
        "\n",
        "# Set labels and title\n",
        "plt.xlabel('Year')\n",
        "plt.ylabel('Amount in $')\n",
        "plt.title('Revenue vs Net Income Over Years')\n",
        "\n",
        "# Format Y-axis to display values in billions\n",
        "plt.gca().yaxis.set_major_formatter(ticker.FuncFormatter(lambda x, _: f'{x/1e9:.0f}B'))\n",
        "\n",
        "# Grid, legend, and display\n",
        "plt.grid(True, linestyle='--', alpha=0.6)\n",
        "plt.legend()\n",
        "plt.show()"
      ],
      "metadata": {
        "colab": {
          "base_uri": "https://localhost:8080/",
          "height": 487
        },
        "id": "kpED2oEUu-ng",
        "outputId": "8cd334be-a3d0-43ff-92f9-468471649925"
      },
      "execution_count": 135,
      "outputs": [
        {
          "output_type": "display_data",
          "data": {
            "text/plain": [
              "<Figure size 1000x500 with 1 Axes>"
            ],
            "image/png": "[encoded data removed]"
          },
          "metadata": {}
        }
      ]
    },
    {
      "cell_type": "markdown",
      "source": [
        "### Insights from Revenue vs. Net Income Graph\n",
        "\n",
        "**1. Revenue Trend**\n",
        "- The total revenue shows a **general upward trend**, peaking in **2022**, followed by a slight dip in **2023**, and then recovering in **2024**.\n",
        "- This suggests **strong business performance** with minor fluctuations.\n",
        "- The small decline in 2023 might indicate external economic factors, operational inefficiencies, or increased costs.\n",
        "\n",
        "**2. Net Income Trend**\n",
        "- Net income remains **relatively stable** compared to revenue, showing only slight variations.\n",
        "- This suggests that **profitability is consistent** despite revenue changes.\n",
        "- The gap between revenue and net income indicates that **operating expenses, taxes, or other costs** play a significant role in determining net profit.\n",
        "\n",
        "**3. Revenue vs. Net Income Scale Difference**\n",
        "- Revenue is **significantly higher** than net income.\n",
        "- This highlights that while the company generates **high revenue**, profitability is only a **fraction** of that.\n",
        "- The trend could be influenced by factors like **cost of goods sold (COGS), operating expenses, and investments in growth**.\n",
        "\n",
        "\n"
      ],
      "metadata": {
        "id": "0M90u9-GxqFE"
      }
    },
    {
      "cell_type": "markdown",
      "source": [
        "### Operating Cash Flow Trend (Bar Chart)"
      ],
      "metadata": {
        "id": "YkyOwd3VlDZ0"
      }
    },
    {
      "cell_type": "code",
      "source": [
        "# Data\n",
        "years = [\"2021\", \"2022\", \"2023\", \"2024\"]\n",
        "operating_cash_flow = [104038000000, 122151000000, 110543000000, 118254000000]\n",
        "\n",
        "# Plot\n",
        "plt.figure(figsize=(8, 5))\n",
        "sns.barplot(x=years, y=operating_cash_flow, palette=\"Blues\")\n",
        "\n",
        "# Format Y-axis\n",
        "plt.ylabel(\"Operating Cash Flow (in Billions)\")\n",
        "plt.xlabel(\"Year\")\n",
        "plt.title(\"Apple's Operating Cash Flow Trend (2021-2024)\")\n",
        "plt.xticks(rotation=45)\n",
        "plt.ticklabel_format(style='plain', axis='y')  # Avoid scientific notation\n",
        "plt.gca().get_yaxis().set_major_formatter(plt.FuncFormatter(lambda x, _: f'{x/1e9:.0f}B'))  # Convert to billions\n",
        "\n",
        "# Show plot\n",
        "plt.show()"
      ],
      "metadata": {
        "colab": {
          "base_uri": "https://localhost:8080/",
          "height": 615
        },
        "id": "RMokqRZRkzTw",
        "outputId": "fd686c3f-a4e9-452e-bcba-f414d2cceaf2"
      },
      "execution_count": 3,
      "outputs": [
        {
          "output_type": "stream",
          "name": "stderr",
          "text": [
            "<ipython-input-3-aac085535d3c>:7: FutureWarning: \n",
            "\n",
            "Passing `palette` without assigning `hue` is deprecated and will be removed in v0.14.0. Assign the `x` variable to `hue` and set `legend=False` for the same effect.\n",
            "\n",
            "  sns.barplot(x=years, y=operating_cash_flow, palette=\"Blues\")\n"
          ]
        },
        {
          "output_type": "display_data",
          "data": {
            "text/plain": [
              "<Figure size 800x500 with 1 Axes>"
            ],
            "image/png": "[encoded data removed]"
          },
          "metadata": {}
        }
      ]
    },
    {
      "cell_type": "markdown",
      "source": [
        "### Profitability Margins (Bar Chart)"
      ],
      "metadata": {
        "id": "AyPEobmhlJpz"
      }
    },
    {
      "cell_type": "code",
      "source": [
        "# Data\n",
        "labels = [\"Gross Profit Margin\", \"Net Profit Margin\", \"Other Costs\"]\n",
        "values = [46.21, 23.97, 100 - (46.21 + 23.97)]  # Remaining percentage as 'Other Costs'\n",
        "colors = [\"#1f77b4\", \"#ff7f0e\", \"#d62728\"]  # Blue, Orange, Red\n",
        "\n",
        "# Plot\n",
        "plt.figure(figsize=(6, 6))\n",
        "plt.pie(values, labels=labels, autopct='%1.1f%%', colors=colors, startangle=140, wedgeprops={'edgecolor': 'black'})\n",
        "\n",
        "# Title\n",
        "plt.title(\"Apple's Profitability Margins (2024)\")\n",
        "\n",
        "# Show plot\n",
        "plt.show()"
      ],
      "metadata": {
        "colab": {
          "base_uri": "https://localhost:8080/",
          "height": 521
        },
        "id": "QaDQp0rslFpY",
        "outputId": "4011774c-92c9-44b5-ce95-43bf27fee4cf"
      },
      "execution_count": 4,
      "outputs": [
        {
          "output_type": "display_data",
          "data": {
            "text/plain": [
              "<Figure size 600x600 with 1 Axes>"
            ],
            "image/png": "[encoded data removed]"
          },
          "metadata": {}
        }
      ]
    },
    {
      "cell_type": "markdown",
      "source": [
        "### Debt-to-Equity Ratio Trend (Line Chart)"
      ],
      "metadata": {
        "id": "Bmt7AfzGlz78"
      }
    },
    {
      "cell_type": "code",
      "source": [
        "# Data\n",
        "debt_to_equity = [4.5, 4.8, 5.2, 5.41]  # Replace with actual values\n",
        "\n",
        "# Plot\n",
        "plt.figure(figsize=(8, 5))\n",
        "plt.plot(years, debt_to_equity, marker='o', linestyle='-', color='red', label=\"Debt-to-Equity Ratio\")\n",
        "\n",
        "# Labels and Formatting\n",
        "plt.ylabel(\"Debt-to-Equity Ratio\")\n",
        "plt.xlabel(\"Year\")\n",
        "plt.title(\"Apple's Debt-to-Equity Ratio Trend (2021-2024)\")\n",
        "plt.xticks(rotation=45)\n",
        "plt.legend()\n",
        "plt.grid(True, linestyle='--', alpha=0.5)\n",
        "\n",
        "# Show plot\n",
        "plt.show()"
      ],
      "metadata": {
        "colab": {
          "base_uri": "https://localhost:8080/",
          "height": 508
        },
        "id": "LCjNtToQlt24",
        "outputId": "20e5d5f6-518f-4698-f137-be4e6164e38d"
      },
      "execution_count": 5,
      "outputs": [
        {
          "output_type": "display_data",
          "data": {
            "text/plain": [
              "<Figure size 800x500 with 1 Axes>"
            ],
            "image/png": "[encoded data removed]"
          },
          "metadata": {}
        }
      ]
    },
    {
      "cell_type": "code",
      "source": [],
      "metadata": {
        "id": "FdodGGTWmAPP"
      },
      "execution_count": null,
      "outputs": []
    }
  ]
}